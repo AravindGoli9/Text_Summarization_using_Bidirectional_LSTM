{
  "nbformat": 4,
  "nbformat_minor": 0,
  "metadata": {
    "colab": {
      "name": "text_summarizer.ipynb",
      "version": "0.3.2",
      "provenance": []
    },
    "kernelspec": {
      "name": "python3",
      "display_name": "Python 3"
    }
  },
  "cells": [
    {
      "metadata": {
        "id": "vx3AgnN4r8MZ",
        "colab_type": "code",
        "colab": {}
      },
      "cell_type": "code",
      "source": [
        "# Code to read csv file into Colaboratory:\n",
        "!pip install -U -q PyDrive\n",
        "from pydrive.auth import GoogleAuth\n",
        "from pydrive.drive import GoogleDrive\n",
        "from google.colab import auth\n",
        "from oauth2client.client import GoogleCredentials\n",
        "# Authenticate and create the PyDrive client.\n",
        "auth.authenticate_user()\n",
        "gauth = GoogleAuth()\n",
        "gauth.credentials = GoogleCredentials.get_application_default()\n",
        "drive = GoogleDrive(gauth)"
      ],
      "execution_count": 0,
      "outputs": []
    },
    {
      "metadata": {
        "id": "LlMHUqINsYd0",
        "colab_type": "code",
        "colab": {}
      },
      "cell_type": "code",
      "source": [
        "link = \"https://drive.google.com/open?id=1XzjTVdQYGUX0iQVmdBW94ey3t7CIwl49\""
      ],
      "execution_count": 0,
      "outputs": []
    },
    {
      "metadata": {
        "id": "yMOBpmWWsYOU",
        "colab_type": "code",
        "colab": {
          "base_uri": "https://localhost:8080/",
          "height": 35
        },
        "outputId": "89d570f7-9553-49b6-c299-e70383bf5e94"
      },
      "cell_type": "code",
      "source": [
        "fluff, id = link.split('=')\n",
        "print (id) # Verify that you have everything after '='"
      ],
      "execution_count": 77,
      "outputs": [
        {
          "output_type": "stream",
          "text": [
            "1XzjTVdQYGUX0iQVmdBW94ey3t7CIwl49\n"
          ],
          "name": "stdout"
        }
      ]
    },
    {
      "metadata": {
        "id": "lZ8j-doSsE7q",
        "colab_type": "code",
        "colab": {}
      },
      "cell_type": "code",
      "source": [
        "import pandas as pd"
      ],
      "execution_count": 0,
      "outputs": []
    },
    {
      "metadata": {
        "id": "wQKy4u9_siwX",
        "colab_type": "code",
        "colab": {}
      },
      "cell_type": "code",
      "source": [
        "downloaded = drive.CreateFile({'id':id}) \n",
        "downloaded.GetContentFile('cleaned_bbc_for_textsum.csv')  \n",
        "df = pd.read_csv('cleaned_bbc_for_textsum.csv')"
      ],
      "execution_count": 0,
      "outputs": []
    },
    {
      "metadata": {
        "id": "_W8QaELksYNP",
        "colab_type": "code",
        "colab": {
          "base_uri": "https://localhost:8080/",
          "height": 202
        },
        "outputId": "f97f4a13-cf77-475d-8e8a-a9e8438e22c3"
      },
      "cell_type": "code",
      "source": [
        "df.head()"
      ],
      "execution_count": 80,
      "outputs": [
        {
          "output_type": "execute_result",
          "data": {
            "text/html": [
              "<div>\n",
              "<style scoped>\n",
              "    .dataframe tbody tr th:only-of-type {\n",
              "        vertical-align: middle;\n",
              "    }\n",
              "\n",
              "    .dataframe tbody tr th {\n",
              "        vertical-align: top;\n",
              "    }\n",
              "\n",
              "    .dataframe thead th {\n",
              "        text-align: right;\n",
              "    }\n",
              "</style>\n",
              "<table border=\"1\" class=\"dataframe\">\n",
              "  <thead>\n",
              "    <tr style=\"text-align: right;\">\n",
              "      <th></th>\n",
              "      <th>Unnamed: 0</th>\n",
              "      <th>row_article</th>\n",
              "      <th>summary</th>\n",
              "    </tr>\n",
              "  </thead>\n",
              "  <tbody>\n",
              "    <tr>\n",
              "      <th>0</th>\n",
              "      <td>0</td>\n",
              "      <td>seeking deal on air eu and us have agreed to b...</td>\n",
              "      <td>sides hope to reach a negotiated deal over sta...</td>\n",
              "    </tr>\n",
              "    <tr>\n",
              "      <th>1</th>\n",
              "      <td>1</td>\n",
              "      <td>to rule on yukos refuge has said a us bankrupt...</td>\n",
              "      <td>has said a us bankruptcy court will decide whe...</td>\n",
              "    </tr>\n",
              "    <tr>\n",
              "      <th>2</th>\n",
              "      <td>2</td>\n",
              "      <td>power shares jump on in largest power national...</td>\n",
              "      <td>in largest power national thermal power corp h...</td>\n",
              "    </tr>\n",
              "    <tr>\n",
              "      <th>3</th>\n",
              "      <td>3</td>\n",
              "      <td>signal brazilian brazilian stock market has ri...</td>\n",
              "      <td>have praised his handling of the economy as fo...</td>\n",
              "    </tr>\n",
              "    <tr>\n",
              "      <th>4</th>\n",
              "      <td>4</td>\n",
              "      <td>unit loses anil the younger of the two brother...</td>\n",
              "      <td>has stepped down as director and of indian pet...</td>\n",
              "    </tr>\n",
              "  </tbody>\n",
              "</table>\n",
              "</div>"
            ],
            "text/plain": [
              "   Unnamed: 0                                        row_article  \\\n",
              "0           0  seeking deal on air eu and us have agreed to b...   \n",
              "1           1  to rule on yukos refuge has said a us bankrupt...   \n",
              "2           2  power shares jump on in largest power national...   \n",
              "3           3  signal brazilian brazilian stock market has ri...   \n",
              "4           4  unit loses anil the younger of the two brother...   \n",
              "\n",
              "                                             summary  \n",
              "0  sides hope to reach a negotiated deal over sta...  \n",
              "1  has said a us bankruptcy court will decide whe...  \n",
              "2  in largest power national thermal power corp h...  \n",
              "3  have praised his handling of the economy as fo...  \n",
              "4  has stepped down as director and of indian pet...  "
            ]
          },
          "metadata": {
            "tags": []
          },
          "execution_count": 80
        }
      ]
    },
    {
      "metadata": {
        "id": "S2Mendn-s72D",
        "colab_type": "code",
        "colab": {
          "base_uri": "https://localhost:8080/",
          "height": 202
        },
        "outputId": "f98afd29-e489-41bd-fdd0-24524ca2c6a8"
      },
      "cell_type": "code",
      "source": [
        "df = df[[\"row_article\", \"summary\"]]\n",
        "df.head()"
      ],
      "execution_count": 81,
      "outputs": [
        {
          "output_type": "execute_result",
          "data": {
            "text/html": [
              "<div>\n",
              "<style scoped>\n",
              "    .dataframe tbody tr th:only-of-type {\n",
              "        vertical-align: middle;\n",
              "    }\n",
              "\n",
              "    .dataframe tbody tr th {\n",
              "        vertical-align: top;\n",
              "    }\n",
              "\n",
              "    .dataframe thead th {\n",
              "        text-align: right;\n",
              "    }\n",
              "</style>\n",
              "<table border=\"1\" class=\"dataframe\">\n",
              "  <thead>\n",
              "    <tr style=\"text-align: right;\">\n",
              "      <th></th>\n",
              "      <th>row_article</th>\n",
              "      <th>summary</th>\n",
              "    </tr>\n",
              "  </thead>\n",
              "  <tbody>\n",
              "    <tr>\n",
              "      <th>0</th>\n",
              "      <td>seeking deal on air eu and us have agreed to b...</td>\n",
              "      <td>sides hope to reach a negotiated deal over sta...</td>\n",
              "    </tr>\n",
              "    <tr>\n",
              "      <th>1</th>\n",
              "      <td>to rule on yukos refuge has said a us bankrupt...</td>\n",
              "      <td>has said a us bankruptcy court will decide whe...</td>\n",
              "    </tr>\n",
              "    <tr>\n",
              "      <th>2</th>\n",
              "      <td>power shares jump on in largest power national...</td>\n",
              "      <td>in largest power national thermal power corp h...</td>\n",
              "    </tr>\n",
              "    <tr>\n",
              "      <th>3</th>\n",
              "      <td>signal brazilian brazilian stock market has ri...</td>\n",
              "      <td>have praised his handling of the economy as fo...</td>\n",
              "    </tr>\n",
              "    <tr>\n",
              "      <th>4</th>\n",
              "      <td>unit loses anil the younger of the two brother...</td>\n",
              "      <td>has stepped down as director and of indian pet...</td>\n",
              "    </tr>\n",
              "  </tbody>\n",
              "</table>\n",
              "</div>"
            ],
            "text/plain": [
              "                                         row_article  \\\n",
              "0  seeking deal on air eu and us have agreed to b...   \n",
              "1  to rule on yukos refuge has said a us bankrupt...   \n",
              "2  power shares jump on in largest power national...   \n",
              "3  signal brazilian brazilian stock market has ri...   \n",
              "4  unit loses anil the younger of the two brother...   \n",
              "\n",
              "                                             summary  \n",
              "0  sides hope to reach a negotiated deal over sta...  \n",
              "1  has said a us bankruptcy court will decide whe...  \n",
              "2  in largest power national thermal power corp h...  \n",
              "3  have praised his handling of the economy as fo...  \n",
              "4  has stepped down as director and of indian pet...  "
            ]
          },
          "metadata": {
            "tags": []
          },
          "execution_count": 81
        }
      ]
    },
    {
      "metadata": {
        "id": "fCMduW2StzSU",
        "colab_type": "code",
        "colab": {
          "base_uri": "https://localhost:8080/",
          "height": 55
        },
        "outputId": "a3d83cb5-af5a-48c0-9838-4b7b899cd5b0"
      },
      "cell_type": "code",
      "source": [
        "df[\"row_article\"][0]"
      ],
      "execution_count": 82,
      "outputs": [
        {
          "output_type": "execute_result",
          "data": {
            "text/plain": [
              "'seeking deal on air eu and us have agreed to begin talks on ending subsidies given to aircraft eu trade commissioner peter mandelson has sides hope to reach a negotiated deal over state aid received by european aircraft maker airbus and its us rival mr mandelson airbus and boeing accuse each other of benefiting from illegal mr mandelson said the eu and us hoped to avoid having to resolve the dispute at the world trade organisation this agreement the eu and us have confirmed their willingness to resolve the dispute which has arisen between mr mandelson hope our negotiations in the next three months will lead to an agreement ending subsidies to development and production of large civil last the us terminated an agreement with the reached in which limits the subsidies countries can hand over to civil aircraft the us filed a complaint against brussels with the wto over state aid to prompting a retaliatory eu complaint over us support for both sides agreed to suspend their requests for wto arbitration at the beginning of to allow bilateral talks to eads and bae the european defence and aerospace firms which own welcomed mr has always been preferable that any differences between the us and europe on this matter be overcome through constructive discussion rather than through legal the companies said in a joint the largest package delivery said it had placed an order for airbus superjumbo with an option to buy more of the the us company said it needed to expand its air freight capacity following strong international and would begin receiving deliveries of the from american  said it was cutting a previous order for smaller airbus from planes to so airbus has delivered to airbus overtook boeing as the largest manufacturer of commercial airliners in'"
            ]
          },
          "metadata": {
            "tags": []
          },
          "execution_count": 82
        }
      ]
    },
    {
      "metadata": {
        "id": "R5Tukx12t3xJ",
        "colab_type": "code",
        "colab": {
          "base_uri": "https://localhost:8080/",
          "height": 35
        },
        "outputId": "d9f98c3a-cb82-43c8-b8ef-e2b320b8c1df"
      },
      "cell_type": "code",
      "source": [
        "len(df[\"row_article\"][0])"
      ],
      "execution_count": 83,
      "outputs": [
        {
          "output_type": "execute_result",
          "data": {
            "text/plain": [
              "1768"
            ]
          },
          "metadata": {
            "tags": []
          },
          "execution_count": 83
        }
      ]
    },
    {
      "metadata": {
        "id": "F3alwekPuGhq",
        "colab_type": "code",
        "colab": {
          "base_uri": "https://localhost:8080/",
          "height": 35
        },
        "outputId": "daacd7c7-0bac-4113-92b4-0e307d524798"
      },
      "cell_type": "code",
      "source": [
        "len(df[\"row_article\"][1])"
      ],
      "execution_count": 84,
      "outputs": [
        {
          "output_type": "execute_result",
          "data": {
            "text/plain": [
              "2357"
            ]
          },
          "metadata": {
            "tags": []
          },
          "execution_count": 84
        }
      ]
    },
    {
      "metadata": {
        "id": "LH9plpQMuQNs",
        "colab_type": "code",
        "colab": {}
      },
      "cell_type": "code",
      "source": [
        "article_list = []\n",
        "summary_list = []\n",
        "for i in range(len(df)):\n",
        "  article_list.append(df.iloc[i, 0])\n",
        "  summary_list.append(df.iloc[i, 1])"
      ],
      "execution_count": 0,
      "outputs": []
    },
    {
      "metadata": {
        "id": "9VPOPi23uIvn",
        "colab_type": "code",
        "colab": {
          "base_uri": "https://localhost:8080/",
          "height": 127
        },
        "outputId": "789c1f68-6b16-4d75-9824-c2d7df5cefef"
      },
      "cell_type": "code",
      "source": [
        "article_list[:5]"
      ],
      "execution_count": 86,
      "outputs": [
        {
          "output_type": "execute_result",
          "data": {
            "text/plain": [
              "['seeking deal on air eu and us have agreed to begin talks on ending subsidies given to aircraft eu trade commissioner peter mandelson has sides hope to reach a negotiated deal over state aid received by european aircraft maker airbus and its us rival mr mandelson airbus and boeing accuse each other of benefiting from illegal mr mandelson said the eu and us hoped to avoid having to resolve the dispute at the world trade organisation this agreement the eu and us have confirmed their willingness to resolve the dispute which has arisen between mr mandelson hope our negotiations in the next three months will lead to an agreement ending subsidies to development and production of large civil last the us terminated an agreement with the reached in which limits the subsidies countries can hand over to civil aircraft the us filed a complaint against brussels with the wto over state aid to prompting a retaliatory eu complaint over us support for both sides agreed to suspend their requests for wto arbitration at the beginning of to allow bilateral talks to eads and bae the european defence and aerospace firms which own welcomed mr has always been preferable that any differences between the us and europe on this matter be overcome through constructive discussion rather than through legal the companies said in a joint the largest package delivery said it had placed an order for airbus superjumbo with an option to buy more of the the us company said it needed to expand its air freight capacity following strong international and would begin receiving deliveries of the from american  said it was cutting a previous order for smaller airbus from planes to so airbus has delivered to airbus overtook boeing as the largest manufacturer of commercial airliners in',\n",
              " 'to rule on yukos refuge has said a us bankruptcy court will decide whether to block impending auction of its main production arm on russian oil firm has filed for bankruptcy protection in the us in an attempt to halt the forced judge letitia clark said the hearing would continue on thursday when arguments in the case would be russian authorities are due to auction off yuganskneftegas on december to pay a huge tax bill sent to prosecutors are forcing the sale of the most lucrative asset yuganskneftegas to help pay a back tax which they claim is owed by for bankruptcy protection in the us was last resort to preserve the rights of our employees and said yukos chief executive steven the company added it had opted to take action through american courts as us bankruptcy law gives worldwide jurisdiction over a debtor property and because it was seeking a judiciary willing to protect the value of as the firm is based in russia and has no significant us lawyers are american ure of the outcome of the are here to stop of our body from being cut off on zack a lawyer for told judge clark in an emergency hearing in on as well as the bid to get chapter bankruptcy which protects firms from allowing them to continue trading as they restructure their finances the group also made a claim for damages against the russian yukos asked the houston court to order russia to arbitration so that it can press claims for billions of dollars in damages over a of discriminatory and tax mr clement said that under russian the russian government was obliged to enter into arbitration as set out in international added that the opening bid for the yuganskneftgas unit was less than half of the that yukos advisers say it is believe the only significant bidder at the auction on sunday is he referring to natural gas yukos maintains that the forced auction is illegal and cause the company to suffer immediate and irreparable many commentators believe the russian aggressive pursuit of yukos is a response to the political ambitions of its former chief mikhail mr who had funded liberal opposition was arrested in october last year on fraud and tax evasion charges and is still in jail analysts believe that if its production unit is auctioned it is likely to be bought up by a like effectively bringing a large chunk of lucrative oil and gas industry back under state',\n",
              " 'power shares jump on in largest power national thermal power corp have risen on their stock market partial of ntpc is part of a controversial programme to privatise the million share a mix of new shares and sales by the raised it was second stock debut in three coming after the flotation by software firm the share offer was eleven times is a good investment said suhas an investment analyst from ing mutual needs in india are set to rise and ntpc will benefit from analysts say the success of the ntpc flotation would encourage the government to reduce stakes in more power ntpc has said it will use the money from the share sale to feed the growing needs of the the firm is the largest utility company in and the sixth largest power producer in the',\n",
              " 'signal brazilian brazilian stock market has risen to a record high as investors display growing confidence in the durability of the economic main bovespa index on the sao paolo stock exchange closed at points on topping the previous record market close reached the previous the buoyancy reflects optimism about the brazilian which could grow by as much as in brazil is recovering from last recession its worst in a output declined in and president luiz inacio lula da silva elected as first president in was strongly criticised for pursuing a hardline economic have praised his handling of the economy as foreign investment has unemployment has fallen and inflation has been brought under analysts believe the stock market will rise above the mark for the first time before too should be more space for gains until the end of the somewhere up to said paschoal tadeu head of equities trading at brokers the also rose to its highest level against the dollar in more than two years on although interest rates still stand at a punitive inflation has fallen from to while exports are particularly of agricultural the first time in we have all three economic policy pillars in line during a finance minister antonio palocci told the associated press news accounts are in we have a current account surplus and inflation is under were deeply suspicious of president da a former trade union leader who campaigned on a programme of extensive land redistribution and a large rise in the minimum mr da silva has stuck to an orthodox monetary policy inherited from his predecessor even in the face of last economic this has earned him the disapproval of rural farm thousands of whom who took to the streets of brasilia on thursday to protest against government president da silva has defended his arguing that brazil cannot afford to continue the cycle of boom and bust which afflicted it in recent',\n",
              " 'unit loses anil the younger of the two brothers in charge of largest private has resigned from running its petrochemicals move is likely to be seen as the latest twist in a feud between mr ambani and his brother has stepped down as director and of indian petrochemicals corporation the company was not available for ipc is by reliance industries which in turn is run by mukesh has spoken of ownership issues between the two who took over control of the reliance empire following the death of their father in operations have massive covering petroleum refining and as well as oil and gas insurance and financial the spat has hogged headlines in india during recent despite a denial from the family that there was anything speculation has been rife about what has triggered the with some observers blaming political others the heavy investment by mukesh and reliance in a mobile phone shares of ipc dipped on the news in but recovered to trade almost reliance shares added while reliance headed by jumped']"
            ]
          },
          "metadata": {
            "tags": []
          },
          "execution_count": 86
        }
      ]
    },
    {
      "metadata": {
        "id": "c5ySpUhIwKhC",
        "colab_type": "code",
        "colab": {}
      },
      "cell_type": "code",
      "source": [
        "MAX_ARTICLE_LEN = 0\n",
        "for art in article_list:\n",
        "  a = art.split()\n",
        "  lena = len(a)\n",
        "  if lena > MAX_ARTICLE_LEN:\n",
        "    MAX_ARTICLE_LEN = lena\n",
        "  else:\n",
        "    continue"
      ],
      "execution_count": 0,
      "outputs": []
    },
    {
      "metadata": {
        "id": "_-IshObGxPEF",
        "colab_type": "code",
        "colab": {
          "base_uri": "https://localhost:8080/",
          "height": 35
        },
        "outputId": "b3793aed-b66e-4ef4-b93d-661cfb54be10"
      },
      "cell_type": "code",
      "source": [
        "MAX_ARTICLE_LEN"
      ],
      "execution_count": 88,
      "outputs": [
        {
          "output_type": "execute_result",
          "data": {
            "text/plain": [
              "3807"
            ]
          },
          "metadata": {
            "tags": []
          },
          "execution_count": 88
        }
      ]
    },
    {
      "metadata": {
        "id": "x_XinUHaxjRO",
        "colab_type": "code",
        "colab": {}
      },
      "cell_type": "code",
      "source": [
        "MAX_SUMMARY_LEN = 0\n",
        "for summ in summary_list:\n",
        "  s = summ.split()\n",
        "  lens = len(s)\n",
        "  if lens > MAX_SUMMARY_LEN:\n",
        "    MAX_SUMMARY_LEN = lens\n",
        "  else:\n",
        "    continue"
      ],
      "execution_count": 0,
      "outputs": []
    },
    {
      "metadata": {
        "id": "BfDrdcKtxw82",
        "colab_type": "code",
        "colab": {
          "base_uri": "https://localhost:8080/",
          "height": 35
        },
        "outputId": "01d2b37a-f67e-4047-9bdd-f9529490cafa"
      },
      "cell_type": "code",
      "source": [
        "MAX_SUMMARY_LEN"
      ],
      "execution_count": 90,
      "outputs": [
        {
          "output_type": "execute_result",
          "data": {
            "text/plain": [
              "1822"
            ]
          },
          "metadata": {
            "tags": []
          },
          "execution_count": 90
        }
      ]
    },
    {
      "metadata": {
        "id": "qw0cqpVUxy9D",
        "colab_type": "code",
        "colab": {}
      },
      "cell_type": "code",
      "source": [
        "id_counter = 0\n",
        "article_vocab = {}\n",
        "for line in article_list:\n",
        "  words = line.split()\n",
        "  for w in words:\n",
        "    if w not in article_vocab:\n",
        "      article_vocab[w] = id_counter\n",
        "      id_counter += 1\n",
        "    else:\n",
        "      continue"
      ],
      "execution_count": 0,
      "outputs": []
    },
    {
      "metadata": {
        "id": "YkeIZnfPze2x",
        "colab_type": "code",
        "colab": {
          "base_uri": "https://localhost:8080/",
          "height": 35
        },
        "outputId": "9c3329ac-c228-4c60-acd0-2db09e797c4b"
      },
      "cell_type": "code",
      "source": [
        "len(article_vocab)"
      ],
      "execution_count": 92,
      "outputs": [
        {
          "output_type": "execute_result",
          "data": {
            "text/plain": [
              "23914"
            ]
          },
          "metadata": {
            "tags": []
          },
          "execution_count": 92
        }
      ]
    },
    {
      "metadata": {
        "id": "h_jc8jBJzsLi",
        "colab_type": "code",
        "colab": {
          "base_uri": "https://localhost:8080/",
          "height": 18035
        },
        "outputId": "ede119ad-1c33-41af-d529-3cced9befb6f"
      },
      "cell_type": "code",
      "source": [
        "article_vocab"
      ],
      "execution_count": 93,
      "outputs": [
        {
          "output_type": "execute_result",
          "data": {
            "text/plain": [
              "{'seeking': 0,\n",
              " 'deal': 1,\n",
              " 'on': 2,\n",
              " 'air': 3,\n",
              " 'eu': 4,\n",
              " 'and': 5,\n",
              " 'us': 6,\n",
              " 'have': 7,\n",
              " 'agreed': 8,\n",
              " 'to': 9,\n",
              " 'begin': 10,\n",
              " 'talks': 11,\n",
              " 'ending': 12,\n",
              " 'subsidies': 13,\n",
              " 'given': 14,\n",
              " 'aircraft': 15,\n",
              " 'trade': 16,\n",
              " 'commissioner': 17,\n",
              " 'peter': 18,\n",
              " 'mandelson': 19,\n",
              " 'has': 20,\n",
              " 'sides': 21,\n",
              " 'hope': 22,\n",
              " 'reach': 23,\n",
              " 'a': 24,\n",
              " 'negotiated': 25,\n",
              " 'over': 26,\n",
              " 'state': 27,\n",
              " 'aid': 28,\n",
              " 'received': 29,\n",
              " 'by': 30,\n",
              " 'european': 31,\n",
              " 'maker': 32,\n",
              " 'airbus': 33,\n",
              " 'its': 34,\n",
              " 'rival': 35,\n",
              " 'mr': 36,\n",
              " 'boeing': 37,\n",
              " 'accuse': 38,\n",
              " 'each': 39,\n",
              " 'other': 40,\n",
              " 'of': 41,\n",
              " 'benefiting': 42,\n",
              " 'from': 43,\n",
              " 'illegal': 44,\n",
              " 'said': 45,\n",
              " 'the': 46,\n",
              " 'hoped': 47,\n",
              " 'avoid': 48,\n",
              " 'having': 49,\n",
              " 'resolve': 50,\n",
              " 'dispute': 51,\n",
              " 'at': 52,\n",
              " 'world': 53,\n",
              " 'organisation': 54,\n",
              " 'this': 55,\n",
              " 'agreement': 56,\n",
              " 'confirmed': 57,\n",
              " 'their': 58,\n",
              " 'willingness': 59,\n",
              " 'which': 60,\n",
              " 'arisen': 61,\n",
              " 'between': 62,\n",
              " 'our': 63,\n",
              " 'negotiations': 64,\n",
              " 'in': 65,\n",
              " 'next': 66,\n",
              " 'three': 67,\n",
              " 'months': 68,\n",
              " 'will': 69,\n",
              " 'lead': 70,\n",
              " 'an': 71,\n",
              " 'development': 72,\n",
              " 'production': 73,\n",
              " 'large': 74,\n",
              " 'civil': 75,\n",
              " 'last': 76,\n",
              " 'terminated': 77,\n",
              " 'with': 78,\n",
              " 'reached': 79,\n",
              " 'limits': 80,\n",
              " 'countries': 81,\n",
              " 'can': 82,\n",
              " 'hand': 83,\n",
              " 'filed': 84,\n",
              " 'complaint': 85,\n",
              " 'against': 86,\n",
              " 'brussels': 87,\n",
              " 'wto': 88,\n",
              " 'prompting': 89,\n",
              " 'retaliatory': 90,\n",
              " 'support': 91,\n",
              " 'for': 92,\n",
              " 'both': 93,\n",
              " 'suspend': 94,\n",
              " 'requests': 95,\n",
              " 'arbitration': 96,\n",
              " 'beginning': 97,\n",
              " 'allow': 98,\n",
              " 'bilateral': 99,\n",
              " 'eads': 100,\n",
              " 'bae': 101,\n",
              " 'defence': 102,\n",
              " 'aerospace': 103,\n",
              " 'firms': 104,\n",
              " 'own': 105,\n",
              " 'welcomed': 106,\n",
              " 'always': 107,\n",
              " 'been': 108,\n",
              " 'preferable': 109,\n",
              " 'that': 110,\n",
              " 'any': 111,\n",
              " 'differences': 112,\n",
              " 'europe': 113,\n",
              " 'matter': 114,\n",
              " 'be': 115,\n",
              " 'overcome': 116,\n",
              " 'through': 117,\n",
              " 'constructive': 118,\n",
              " 'discussion': 119,\n",
              " 'rather': 120,\n",
              " 'than': 121,\n",
              " 'legal': 122,\n",
              " 'companies': 123,\n",
              " 'joint': 124,\n",
              " 'largest': 125,\n",
              " 'package': 126,\n",
              " 'delivery': 127,\n",
              " 'it': 128,\n",
              " 'had': 129,\n",
              " 'placed': 130,\n",
              " 'order': 131,\n",
              " 'superjumbo': 132,\n",
              " 'option': 133,\n",
              " 'buy': 134,\n",
              " 'more': 135,\n",
              " 'company': 136,\n",
              " 'needed': 137,\n",
              " 'expand': 138,\n",
              " 'freight': 139,\n",
              " 'capacity': 140,\n",
              " 'following': 141,\n",
              " 'strong': 142,\n",
              " 'international': 143,\n",
              " 'would': 144,\n",
              " 'receiving': 145,\n",
              " 'deliveries': 146,\n",
              " 'american': 147,\n",
              " 'was': 148,\n",
              " 'cutting': 149,\n",
              " 'previous': 150,\n",
              " 'smaller': 151,\n",
              " 'planes': 152,\n",
              " 'so': 153,\n",
              " 'delivered': 154,\n",
              " 'overtook': 155,\n",
              " 'as': 156,\n",
              " 'manufacturer': 157,\n",
              " 'commercial': 158,\n",
              " 'airliners': 159,\n",
              " 'rule': 160,\n",
              " 'yukos': 161,\n",
              " 'refuge': 162,\n",
              " 'bankruptcy': 163,\n",
              " 'court': 164,\n",
              " 'decide': 165,\n",
              " 'whether': 166,\n",
              " 'block': 167,\n",
              " 'impending': 168,\n",
              " 'auction': 169,\n",
              " 'main': 170,\n",
              " 'arm': 171,\n",
              " 'russian': 172,\n",
              " 'oil': 173,\n",
              " 'firm': 174,\n",
              " 'protection': 175,\n",
              " 'attempt': 176,\n",
              " 'halt': 177,\n",
              " 'forced': 178,\n",
              " 'judge': 179,\n",
              " 'letitia': 180,\n",
              " 'clark': 181,\n",
              " 'hearing': 182,\n",
              " 'continue': 183,\n",
              " 'thursday': 184,\n",
              " 'when': 185,\n",
              " 'arguments': 186,\n",
              " 'case': 187,\n",
              " 'authorities': 188,\n",
              " 'are': 189,\n",
              " 'due': 190,\n",
              " 'off': 191,\n",
              " 'yuganskneftegas': 192,\n",
              " 'december': 193,\n",
              " 'pay': 194,\n",
              " 'huge': 195,\n",
              " 'tax': 196,\n",
              " 'bill': 197,\n",
              " 'sent': 198,\n",
              " 'prosecutors': 199,\n",
              " 'forcing': 200,\n",
              " 'sale': 201,\n",
              " 'most': 202,\n",
              " 'lucrative': 203,\n",
              " 'asset': 204,\n",
              " 'help': 205,\n",
              " 'back': 206,\n",
              " 'they': 207,\n",
              " 'claim': 208,\n",
              " 'is': 209,\n",
              " 'owed': 210,\n",
              " 'resort': 211,\n",
              " 'preserve': 212,\n",
              " 'rights': 213,\n",
              " 'employees': 214,\n",
              " 'chief': 215,\n",
              " 'executive': 216,\n",
              " 'steven': 217,\n",
              " 'added': 218,\n",
              " 'opted': 219,\n",
              " 'take': 220,\n",
              " 'action': 221,\n",
              " 'courts': 222,\n",
              " 'law': 223,\n",
              " 'gives': 224,\n",
              " 'worldwide': 225,\n",
              " 'jurisdiction': 226,\n",
              " 'debtor': 227,\n",
              " 'property': 228,\n",
              " 'because': 229,\n",
              " 'judiciary': 230,\n",
              " 'willing': 231,\n",
              " 'protect': 232,\n",
              " 'value': 233,\n",
              " 'based': 234,\n",
              " 'russia': 235,\n",
              " 'no': 236,\n",
              " 'significant': 237,\n",
              " 'lawyers': 238,\n",
              " 'ure': 239,\n",
              " 'outcome': 240,\n",
              " 'here': 241,\n",
              " 'stop': 242,\n",
              " 'body': 243,\n",
              " 'being': 244,\n",
              " 'cut': 245,\n",
              " 'zack': 246,\n",
              " 'lawyer': 247,\n",
              " 'told': 248,\n",
              " 'emergency': 249,\n",
              " 'well': 250,\n",
              " 'bid': 251,\n",
              " 'get': 252,\n",
              " 'chapter': 253,\n",
              " 'protects': 254,\n",
              " 'allowing': 255,\n",
              " 'them': 256,\n",
              " 'trading': 257,\n",
              " 'restructure': 258,\n",
              " 'finances': 259,\n",
              " 'group': 260,\n",
              " 'also': 261,\n",
              " 'made': 262,\n",
              " 'damages': 263,\n",
              " 'asked': 264,\n",
              " 'houston': 265,\n",
              " 'press': 266,\n",
              " 'claims': 267,\n",
              " 'billions': 268,\n",
              " 'dollars': 269,\n",
              " 'discriminatory': 270,\n",
              " 'clement': 271,\n",
              " 'under': 272,\n",
              " 'government': 273,\n",
              " 'obliged': 274,\n",
              " 'enter': 275,\n",
              " 'into': 276,\n",
              " 'set': 277,\n",
              " 'out': 278,\n",
              " 'opening': 279,\n",
              " 'yuganskneftgas': 280,\n",
              " 'unit': 281,\n",
              " 'less': 282,\n",
              " 'half': 283,\n",
              " 'advisers': 284,\n",
              " 'say': 285,\n",
              " 'believe': 286,\n",
              " 'only': 287,\n",
              " 'bidder': 288,\n",
              " 'sunday': 289,\n",
              " 'he': 290,\n",
              " 'referring': 291,\n",
              " 'natural': 292,\n",
              " 'gas': 293,\n",
              " 'maintains': 294,\n",
              " 'cause': 295,\n",
              " 'suffer': 296,\n",
              " 'immediate': 297,\n",
              " 'irreparable': 298,\n",
              " 'many': 299,\n",
              " 'commentators': 300,\n",
              " 'aggressive': 301,\n",
              " 'pursuit': 302,\n",
              " 'response': 303,\n",
              " 'political': 304,\n",
              " 'ambitions': 305,\n",
              " 'former': 306,\n",
              " 'mikhail': 307,\n",
              " 'who': 308,\n",
              " 'funded': 309,\n",
              " 'liberal': 310,\n",
              " 'opposition': 311,\n",
              " 'arrested': 312,\n",
              " 'october': 313,\n",
              " 'year': 314,\n",
              " 'fraud': 315,\n",
              " 'evasion': 316,\n",
              " 'charges': 317,\n",
              " 'still': 318,\n",
              " 'jail': 319,\n",
              " 'analysts': 320,\n",
              " 'if': 321,\n",
              " 'auctioned': 322,\n",
              " 'likely': 323,\n",
              " 'bought': 324,\n",
              " 'up': 325,\n",
              " 'like': 326,\n",
              " 'effectively': 327,\n",
              " 'bringing': 328,\n",
              " 'chunk': 329,\n",
              " 'industry': 330,\n",
              " 'power': 331,\n",
              " 'shares': 332,\n",
              " 'jump': 333,\n",
              " 'national': 334,\n",
              " 'thermal': 335,\n",
              " 'corp': 336,\n",
              " 'risen': 337,\n",
              " 'stock': 338,\n",
              " 'market': 339,\n",
              " 'partial': 340,\n",
              " 'ntpc': 341,\n",
              " 'part': 342,\n",
              " 'controversial': 343,\n",
              " 'programme': 344,\n",
              " 'privatise': 345,\n",
              " 'million': 346,\n",
              " 'share': 347,\n",
              " 'mix': 348,\n",
              " 'new': 349,\n",
              " 'sales': 350,\n",
              " 'raised': 351,\n",
              " 'second': 352,\n",
              " 'debut': 353,\n",
              " 'coming': 354,\n",
              " 'after': 355,\n",
              " 'flotation': 356,\n",
              " 'software': 357,\n",
              " 'offer': 358,\n",
              " 'eleven': 359,\n",
              " 'times': 360,\n",
              " 'good': 361,\n",
              " 'investment': 362,\n",
              " 'suhas': 363,\n",
              " 'analyst': 364,\n",
              " 'ing': 365,\n",
              " 'mutual': 366,\n",
              " 'needs': 367,\n",
              " 'india': 368,\n",
              " 'rise': 369,\n",
              " 'benefit': 370,\n",
              " 'success': 371,\n",
              " 'encourage': 372,\n",
              " 'reduce': 373,\n",
              " 'stakes': 374,\n",
              " 'use': 375,\n",
              " 'money': 376,\n",
              " 'feed': 377,\n",
              " 'growing': 378,\n",
              " 'utility': 379,\n",
              " 'sixth': 380,\n",
              " 'producer': 381,\n",
              " 'signal': 382,\n",
              " 'brazilian': 383,\n",
              " 'record': 384,\n",
              " 'high': 385,\n",
              " 'investors': 386,\n",
              " 'display': 387,\n",
              " 'confidence': 388,\n",
              " 'durability': 389,\n",
              " 'economic': 390,\n",
              " 'bovespa': 391,\n",
              " 'index': 392,\n",
              " 'sao': 393,\n",
              " 'paolo': 394,\n",
              " 'exchange': 395,\n",
              " 'closed': 396,\n",
              " 'points': 397,\n",
              " 'topping': 398,\n",
              " 'close': 399,\n",
              " 'buoyancy': 400,\n",
              " 'reflects': 401,\n",
              " 'optimism': 402,\n",
              " 'about': 403,\n",
              " 'could': 404,\n",
              " 'grow': 405,\n",
              " 'much': 406,\n",
              " 'brazil': 407,\n",
              " 'recovering': 408,\n",
              " 'recession': 409,\n",
              " 'worst': 410,\n",
              " 'output': 411,\n",
              " 'declined': 412,\n",
              " 'president': 413,\n",
              " 'luiz': 414,\n",
              " 'inacio': 415,\n",
              " 'lula': 416,\n",
              " 'da': 417,\n",
              " 'silva': 418,\n",
              " 'elected': 419,\n",
              " 'first': 420,\n",
              " 'strongly': 421,\n",
              " 'criticised': 422,\n",
              " 'pursuing': 423,\n",
              " 'hardline': 424,\n",
              " 'praised': 425,\n",
              " 'his': 426,\n",
              " 'handling': 427,\n",
              " 'economy': 428,\n",
              " 'foreign': 429,\n",
              " 'unemployment': 430,\n",
              " 'fallen': 431,\n",
              " 'inflation': 432,\n",
              " 'brought': 433,\n",
              " 'above': 434,\n",
              " 'mark': 435,\n",
              " 'time': 436,\n",
              " 'before': 437,\n",
              " 'too': 438,\n",
              " 'should': 439,\n",
              " 'space': 440,\n",
              " 'gains': 441,\n",
              " 'until': 442,\n",
              " 'end': 443,\n",
              " 'somewhere': 444,\n",
              " 'paschoal': 445,\n",
              " 'tadeu': 446,\n",
              " 'head': 447,\n",
              " 'equities': 448,\n",
              " 'brokers': 449,\n",
              " 'rose': 450,\n",
              " 'highest': 451,\n",
              " 'level': 452,\n",
              " 'dollar': 453,\n",
              " 'two': 454,\n",
              " 'years': 455,\n",
              " 'although': 456,\n",
              " 'interest': 457,\n",
              " 'rates': 458,\n",
              " 'stand': 459,\n",
              " 'punitive': 460,\n",
              " 'while': 461,\n",
              " 'exports': 462,\n",
              " 'particularly': 463,\n",
              " 'agricultural': 464,\n",
              " 'we': 465,\n",
              " 'all': 466,\n",
              " 'policy': 467,\n",
              " 'pillars': 468,\n",
              " 'line': 469,\n",
              " 'during': 470,\n",
              " 'finance': 471,\n",
              " 'minister': 472,\n",
              " 'antonio': 473,\n",
              " 'palocci': 474,\n",
              " 'associated': 475,\n",
              " 'news': 476,\n",
              " 'accounts': 477,\n",
              " 'current': 478,\n",
              " 'account': 479,\n",
              " 'surplus': 480,\n",
              " 'were': 481,\n",
              " 'deeply': 482,\n",
              " 'suspicious': 483,\n",
              " 'union': 484,\n",
              " 'leader': 485,\n",
              " 'campaigned': 486,\n",
              " 'extensive': 487,\n",
              " 'land': 488,\n",
              " 'redistribution': 489,\n",
              " 'minimum': 490,\n",
              " 'stuck': 491,\n",
              " 'orthodox': 492,\n",
              " 'monetary': 493,\n",
              " 'inherited': 494,\n",
              " 'predecessor': 495,\n",
              " 'even': 496,\n",
              " 'face': 497,\n",
              " 'earned': 498,\n",
              " 'him': 499,\n",
              " 'disapproval': 500,\n",
              " 'rural': 501,\n",
              " 'farm': 502,\n",
              " 'thousands': 503,\n",
              " 'whom': 504,\n",
              " 'took': 505,\n",
              " 'streets': 506,\n",
              " 'brasilia': 507,\n",
              " 'protest': 508,\n",
              " 'defended': 509,\n",
              " 'arguing': 510,\n",
              " 'cannot': 511,\n",
              " 'afford': 512,\n",
              " 'cycle': 513,\n",
              " 'boom': 514,\n",
              " 'bust': 515,\n",
              " 'afflicted': 516,\n",
              " 'recent': 517,\n",
              " 'loses': 518,\n",
              " 'anil': 519,\n",
              " 'younger': 520,\n",
              " 'brothers': 521,\n",
              " 'charge': 522,\n",
              " 'private': 523,\n",
              " 'resigned': 524,\n",
              " 'running': 525,\n",
              " 'petrochemicals': 526,\n",
              " 'move': 527,\n",
              " 'seen': 528,\n",
              " 'latest': 529,\n",
              " 'twist': 530,\n",
              " 'feud': 531,\n",
              " 'ambani': 532,\n",
              " 'brother': 533,\n",
              " 'stepped': 534,\n",
              " 'down': 535,\n",
              " 'director': 536,\n",
              " 'indian': 537,\n",
              " 'corporation': 538,\n",
              " 'not': 539,\n",
              " 'available': 540,\n",
              " 'ipc': 541,\n",
              " 'reliance': 542,\n",
              " 'industries': 543,\n",
              " 'turn': 544,\n",
              " 'run': 545,\n",
              " 'mukesh': 546,\n",
              " 'spoken': 547,\n",
              " 'ownership': 548,\n",
              " 'issues': 549,\n",
              " 'control': 550,\n",
              " 'empire': 551,\n",
              " 'death': 552,\n",
              " 'father': 553,\n",
              " 'operations': 554,\n",
              " 'massive': 555,\n",
              " 'covering': 556,\n",
              " 'petroleum': 557,\n",
              " 'refining': 558,\n",
              " 'insurance': 559,\n",
              " 'financial': 560,\n",
              " 'spat': 561,\n",
              " 'hogged': 562,\n",
              " 'headlines': 563,\n",
              " 'despite': 564,\n",
              " 'denial': 565,\n",
              " 'family': 566,\n",
              " 'there': 567,\n",
              " 'anything': 568,\n",
              " 'speculation': 569,\n",
              " 'rife': 570,\n",
              " 'what': 571,\n",
              " 'triggered': 572,\n",
              " 'some': 573,\n",
              " 'observers': 574,\n",
              " 'blaming': 575,\n",
              " 'others': 576,\n",
              " 'heavy': 577,\n",
              " 'mobile': 578,\n",
              " 'phone': 579,\n",
              " 'dipped': 580,\n",
              " 'but': 581,\n",
              " 'recovered': 582,\n",
              " 'almost': 583,\n",
              " 'headed': 584,\n",
              " 'jumped': 585,\n",
              " 'boost': 586,\n",
              " 'warner': 587,\n",
              " 'profits': 588,\n",
              " 'media': 589,\n",
              " 'giant': 590,\n",
              " 'timewarner': 591,\n",
              " 'now': 592,\n",
              " 'one': 593,\n",
              " 'biggest': 594,\n",
              " 'benefited': 595,\n",
              " 'internet': 596,\n",
              " 'connections': 597,\n",
              " 'higher': 598,\n",
              " 'advert': 599,\n",
              " 'fourth': 600,\n",
              " 'quarter': 601,\n",
              " 'buoyed': 602,\n",
              " 'offset': 603,\n",
              " 'profit': 604,\n",
              " 'dip': 605,\n",
              " 'users': 606,\n",
              " 'friday': 607,\n",
              " 'owns': 608,\n",
              " 'mixed': 609,\n",
              " 'lost': 610,\n",
              " 'subscribers': 611,\n",
              " 'lower': 612,\n",
              " 'preceding': 613,\n",
              " 'underlying': 614,\n",
              " 'exceptional': 615,\n",
              " 'items': 616,\n",
              " 'stronger': 617,\n",
              " 'advertising': 618,\n",
              " 'hopes': 619,\n",
              " 'increase': 620,\n",
              " 'offering': 621,\n",
              " 'online': 622,\n",
              " 'service': 623,\n",
              " 'free': 624,\n",
              " 'customers': 625,\n",
              " 'try': 626,\n",
              " 'sign': 627,\n",
              " 'existing': 628,\n",
              " 'restate': 629,\n",
              " 'results': 630,\n",
              " 'probe': 631,\n",
              " 'securities': 632,\n",
              " 'commission': 633,\n",
              " 'slightly': 634,\n",
              " 'better': 635,\n",
              " 'film': 636,\n",
              " 'division': 637,\n",
              " 'saw': 638,\n",
              " 'slump': 639,\n",
              " 'helped': 640,\n",
              " 'flops': 641,\n",
              " 'alexander': 642,\n",
              " 'sharp': 643,\n",
              " 'contrast': 644,\n",
              " 'third': 645,\n",
              " 'final': 646,\n",
              " 'lord': 647,\n",
              " 'rings': 648,\n",
              " 'trilogy': 649,\n",
              " 'boosted': 650,\n",
              " 'posted': 651,\n",
              " 'revenues': 652,\n",
              " 'grew': 653,\n",
              " 'performance': 654,\n",
              " 'meeting': 655,\n",
              " 'or': 656,\n",
              " 'exceeding': 657,\n",
              " 'objectives': 658,\n",
              " 'greatly': 659,\n",
              " 'enhancing': 660,\n",
              " 'chairman': 661,\n",
              " 'richard': 662,\n",
              " 'parsons': 663,\n",
              " 'projecting': 664,\n",
              " 'operating': 665,\n",
              " 'earnings': 666,\n",
              " 'growth': 667,\n",
              " 'around': 668,\n",
              " 'expects': 669,\n",
              " 'revenue': 670,\n",
              " 'wider': 671,\n",
              " 'efforts': 672,\n",
              " 'inquiry': 673,\n",
              " 'aol': 674,\n",
              " 'already': 675,\n",
              " 'offered': 676,\n",
              " 'settle': 677,\n",
              " 'review': 678,\n",
              " 'unable': 679,\n",
              " 'estimate': 680,\n",
              " 'amount': 681,\n",
              " 'aside': 682,\n",
              " 'previously': 683,\n",
              " 'intends': 684,\n",
              " 'adjust': 685,\n",
              " 'way': 686,\n",
              " 'german': 687,\n",
              " 'music': 688,\n",
              " 'publisher': 689,\n",
              " 'purchase': 690,\n",
              " 'stake': 691,\n",
              " 'reported': 692,\n",
              " 'book': 693,\n",
              " 'loss': 694,\n",
              " 'fined': 695,\n",
              " 'agrochemical': 696,\n",
              " 'monsanto': 697,\n",
              " 'fine': 698,\n",
              " 'bribing': 699,\n",
              " 'indonesian': 700,\n",
              " 'admitted': 701,\n",
              " 'paid': 702,\n",
              " 'senior': 703,\n",
              " 'official': 704,\n",
              " 'ago': 705,\n",
              " 'environmental': 706,\n",
              " 'impact': 707,\n",
              " 'studies': 708,\n",
              " 'conducted': 709,\n",
              " 'addition': 710,\n",
              " 'monitoring': 711,\n",
              " 'business': 712,\n",
              " 'practices': 713,\n",
              " 'accepted': 714,\n",
              " 'full': 715,\n",
              " 'responsibility': 716,\n",
              " 'called': 717,\n",
              " 'improper': 718,\n",
              " 'manager': 719,\n",
              " 'directed': 720,\n",
              " 'consulting': 721,\n",
              " 'give': 722,\n",
              " 'bribe': 723,\n",
              " 'environment': 724,\n",
              " 'ministry': 725,\n",
              " 'disguise': 726,\n",
              " 'invoice': 727,\n",
              " 'facing': 728,\n",
              " 'stiff': 729,\n",
              " 'activists': 730,\n",
              " 'farmers': 731,\n",
              " 'campaigning': 732,\n",
              " 'plans': 733,\n",
              " 'introduce': 734,\n",
              " 'cotton': 735,\n",
              " 'did': 736,\n",
              " 'authorise': 737,\n",
              " 'waiving': 738,\n",
              " 'study': 739,\n",
              " 'paying': 740,\n",
              " 'bribes': 741,\n",
              " 'number': 742,\n",
              " 'officials': 743,\n",
              " 'became': 744,\n",
              " 'aware': 745,\n",
              " 'irregularities': 746,\n",
              " 'subsidiary': 747,\n",
              " 'launched': 748,\n",
              " 'internal': 749,\n",
              " 'investigation': 750,\n",
              " 'informing': 751,\n",
              " 'department': 752,\n",
              " 'justice': 753,\n",
              " 'faced': 754,\n",
              " 'criminal': 755,\n",
              " 'favourable': 756,\n",
              " 'treatment': 757,\n",
              " 'christopher': 758,\n",
              " 'assistant': 759,\n",
              " 'attorney': 760,\n",
              " 'adopt': 761,\n",
              " 'compliance': 762,\n",
              " 'continuing': 763,\n",
              " 'sec': 764,\n",
              " 'related': 765,\n",
              " 'adding': 766,\n",
              " 'taken': 767,\n",
              " 'actions': 768,\n",
              " 'address': 769,\n",
              " 'activities': 770,\n",
              " 'throughout': 771,\n",
              " 'investigative': 772,\n",
              " 'cement': 773,\n",
              " 'buying': 774,\n",
              " 'holcim': 775,\n",
              " 'holding': 776,\n",
              " 'ambuja': 777,\n",
              " 'eastern': 778,\n",
              " 'statement': 779,\n",
              " 'acc': 780,\n",
              " 'fell': 781,\n",
              " 'thought': 782,\n",
              " 'decided': 783,\n",
              " 'aggregate': 784,\n",
              " 'takeover': 785,\n",
              " 'aggregates': 786,\n",
              " 'entry': 787,\n",
              " 'uk': 788,\n",
              " 'presence': 789,\n",
              " 'remain': 790,\n",
              " 'provided': 791,\n",
              " 'runs': 792,\n",
              " 'quarries': 793,\n",
              " 'concrete': 794,\n",
              " 'asphalt': 795,\n",
              " 'plants': 796,\n",
              " 'deals': 797,\n",
              " 'go': 798,\n",
              " 'major': 799,\n",
              " 'behind': 800,\n",
              " 'annual': 801,\n",
              " 'tonnes': 802,\n",
              " 'looking': 803,\n",
              " 'very': 804,\n",
              " 'kk': 805,\n",
              " 'fund': 806,\n",
              " 'escorts': 807,\n",
              " 'want': 808,\n",
              " 'substantial': 809,\n",
              " 'then': 810,\n",
              " 'premium': 811,\n",
              " 'coal': 812,\n",
              " 'plunges': 813,\n",
              " 'deeper': 814,\n",
              " 'mining': 815,\n",
              " 'losses': 816,\n",
              " 'deepened': 817,\n",
              " 'blamed': 818,\n",
              " 'geological': 819,\n",
              " 'industrial': 820,\n",
              " 'deep': 821,\n",
              " 'mines': 822,\n",
              " 'worsening': 823,\n",
              " 'south': 824,\n",
              " 'yorkshire': 825,\n",
              " 'led': 826,\n",
              " 'gerry': 827,\n",
              " 'return': 828,\n",
              " 'early': 829,\n",
              " 'making': 830,\n",
              " 'shaking': 831,\n",
              " 'introduced': 832,\n",
              " 'wage': 833,\n",
              " 'daily': 834,\n",
              " 'maintenance': 835,\n",
              " 'regime': 836,\n",
              " 'machinery': 837,\n",
              " 'methods': 838,\n",
              " 'adverse': 839,\n",
              " 'these': 840,\n",
              " 'uplift': 841,\n",
              " 'expected': 842,\n",
              " 'profitability': 843,\n",
              " 'prices': 844,\n",
              " 'failed': 845,\n",
              " 'total': 846,\n",
              " 'costs': 847,\n",
              " 'per': 848,\n",
              " 'average': 849,\n",
              " 'selling': 850,\n",
              " 'price': 851,\n",
              " 'just': 852,\n",
              " 'long': 853,\n",
              " 'journey': 854,\n",
              " 'ahead': 855,\n",
              " 'fix': 856,\n",
              " 'make': 857,\n",
              " 'progress': 858,\n",
              " 'great': 859,\n",
              " 'strides': 860,\n",
              " 'operates': 861,\n",
              " 'surface': 862,\n",
              " 'across': 863,\n",
              " 'west': 864,\n",
              " 'northumberland': 865,\n",
              " 'sells': 866,\n",
              " 'tube': 867,\n",
              " 'engineering': 868,\n",
              " 'jarvis': 869,\n",
              " 'soared': 870,\n",
              " 'offloading': 871,\n",
              " 'london': 872,\n",
              " 'underground': 873,\n",
              " 'consortium': 874,\n",
              " 'ferrovial': 875,\n",
              " 'lifeline': 876,\n",
              " 'weighed': 877,\n",
              " 'debts': 878,\n",
              " 'recently': 879,\n",
              " 'warned': 880,\n",
              " 'secure': 881,\n",
              " 'refinancing': 882,\n",
              " 'banks': 883,\n",
              " 'extend': 884,\n",
              " 'credit': 885,\n",
              " 'facilities': 886,\n",
              " 'march': 887,\n",
              " 'terms': 888,\n",
              " 'completion': 889,\n",
              " 'construction': 890,\n",
              " 'projects': 891,\n",
              " 'initiative': 892,\n",
              " 'wants': 893,\n",
              " 'scale': 894,\n",
              " 'proved': 895,\n",
              " 'costly': 896,\n",
              " 'focus': 897,\n",
              " 'rail': 898,\n",
              " 'roads': 899,\n",
              " 'plant': 900,\n",
              " 'hire': 901,\n",
              " 'holds': 902,\n",
              " 'northern': 903,\n",
              " 'piccadilly': 904,\n",
              " 'spanish': 905,\n",
              " 'keen': 906,\n",
              " 'snap': 907,\n",
              " 'infrastructure': 908,\n",
              " 'amey': 909,\n",
              " 'raked': 910,\n",
              " 'enhance': 911,\n",
              " 'am': 912,\n",
              " 'confident': 913,\n",
              " 'forward': 914,\n",
              " 'towards': 915,\n",
              " 'rebuilding': 916,\n",
              " 'profitable': 917,\n",
              " 'alan': 918,\n",
              " 'pence': 919,\n",
              " 'label': 920,\n",
              " 'goods': 921,\n",
              " 'lvmh': 922,\n",
              " 'sold': 923,\n",
              " 'christian': 924,\n",
              " 'lacroix': 925,\n",
              " 'clothing': 926,\n",
              " 'shedding': 927,\n",
              " 'businesses': 928,\n",
              " 'focusing': 929,\n",
              " 'brands': 930,\n",
              " 'including': 931,\n",
              " 'moet': 932,\n",
              " 'chandon': 933,\n",
              " 'champagne': 934,\n",
              " 'louis': 935,\n",
              " 'french': 936,\n",
              " 'haute': 937,\n",
              " 'couture': 938,\n",
              " 'labels': 939,\n",
              " 'purchased': 940,\n",
              " 'falic': 941,\n",
              " 'pecified': 942,\n",
              " 'cosmetics': 943,\n",
              " 'comes': 944,\n",
              " 'fashion': 945,\n",
              " 'houses': 946,\n",
              " 'struggling': 947,\n",
              " 'expensive': 948,\n",
              " 'chain': 949,\n",
              " 'duty': 950,\n",
              " 'stores': 951,\n",
              " 'planned': 952,\n",
              " 'brand': 953,\n",
              " 'stay': 954,\n",
              " 'founded': 955,\n",
              " 'exact': 956,\n",
              " 'details': 957,\n",
              " 'markets': 958,\n",
              " 'shed': 959,\n",
              " 'few': 960,\n",
              " 'british': 961,\n",
              " 'michael': 962,\n",
              " 'heseltine': 963,\n",
              " 'once': 964,\n",
              " 'traders': 965,\n",
              " 'asia': 966,\n",
              " 'wasted': 967,\n",
              " 'little': 968,\n",
              " 'regretting': 969,\n",
              " 'victims': 970,\n",
              " 'indonesia': 971,\n",
              " 'hit': 972,\n",
              " 'highs': 973,\n",
              " 'sri': 974,\n",
              " 'comprehensively': 975,\n",
              " 'since': 976,\n",
              " 'waves': 977,\n",
              " 'bigger': 978,\n",
              " 'further': 979,\n",
              " 'afield': 980,\n",
              " 'barely': 981,\n",
              " 'msci': 982,\n",
              " 'measure': 983,\n",
              " 'global': 984,\n",
              " 'week': 985,\n",
              " 'bbc': 986,\n",
              " 'past': 987,\n",
              " 'sentiment': 988,\n",
              " 'estimated': 989,\n",
              " 'tens': 990,\n",
              " 'region': 991,\n",
              " 'trimming': 992,\n",
              " 'perfectly': 993,\n",
              " 'notional': 994,\n",
              " 'cost': 995,\n",
              " 'disaster': 996,\n",
              " 'bearing': 997,\n",
              " 'corporate': 998,\n",
              " 'bottom': 999,\n",
              " ...}"
            ]
          },
          "metadata": {
            "tags": []
          },
          "execution_count": 93
        }
      ]
    },
    {
      "metadata": {
        "id": "Kd1Vt2BVzhYo",
        "colab_type": "code",
        "colab": {}
      },
      "cell_type": "code",
      "source": [
        "id_counter = 0\n",
        "summary_vocab = {}\n",
        "for line in summary_list:\n",
        "  words = line.split()\n",
        "  for w in words:\n",
        "    if w not in summary_vocab:\n",
        "      summary_vocab[w] = id_counter\n",
        "      id_counter += 1\n",
        "    else:\n",
        "      continue"
      ],
      "execution_count": 0,
      "outputs": []
    },
    {
      "metadata": {
        "id": "p6jKOtD6zoy1",
        "colab_type": "code",
        "colab": {
          "base_uri": "https://localhost:8080/",
          "height": 35
        },
        "outputId": "0de6a62f-df40-44b1-993b-8b593de926b7"
      },
      "cell_type": "code",
      "source": [
        "len(summary_vocab)"
      ],
      "execution_count": 95,
      "outputs": [
        {
          "output_type": "execute_result",
          "data": {
            "text/plain": [
              "16484"
            ]
          },
          "metadata": {
            "tags": []
          },
          "execution_count": 95
        }
      ]
    },
    {
      "metadata": {
        "id": "AwHCEae04DFw",
        "colab_type": "text"
      },
      "cell_type": "markdown",
      "source": [
        ""
      ]
    },
    {
      "metadata": {
        "id": "yv5xBc-04ENQ",
        "colab_type": "code",
        "colab": {
          "base_uri": "https://localhost:8080/",
          "height": 35
        },
        "outputId": "0adc3293-5b29-4c43-8714-e8dfb9b44d43"
      },
      "cell_type": "code",
      "source": [
        "import numpy as np\n",
        "link = \"https://drive.google.com/open?id=1iCsct96iN9Bvzj-1VMEEVQR1PhmevHDO\"\n",
        "fluff, id = link.split('=')\n",
        "print (id)\n",
        "downloaded = drive.CreateFile({'id':id}) \n",
        "downloaded.GetContentFile('glove.6B.200d.txt')  "
      ],
      "execution_count": 96,
      "outputs": [
        {
          "output_type": "stream",
          "text": [
            "1iCsct96iN9Bvzj-1VMEEVQR1PhmevHDO\n"
          ],
          "name": "stdout"
        }
      ]
    },
    {
      "metadata": {
        "id": "BA-Syz252-Ot",
        "colab_type": "code",
        "colab": {
          "base_uri": "https://localhost:8080/",
          "height": 35
        },
        "outputId": "57dc7ee5-eab0-46d8-80a7-e46083db93f7"
      },
      "cell_type": "code",
      "source": [
        "glove_embeddings_index = {}\n",
        "f = open('glove.6B.200d.txt')\n",
        "for line in f:\n",
        "    values = line.split(' ')\n",
        "    word = values[0]\n",
        "    coefs = np.asarray(values[1:], dtype='float32')\n",
        "    glove_embeddings_index[word] = coefs\n",
        "f.close()\n",
        "\n",
        "print('GloVe weight loaded')"
      ],
      "execution_count": 97,
      "outputs": [
        {
          "output_type": "stream",
          "text": [
            "GloVe weight loaded\n"
          ],
          "name": "stdout"
        }
      ]
    },
    {
      "metadata": {
        "id": "QOpj_Huu4vEW",
        "colab_type": "code",
        "colab": {
          "base_uri": "https://localhost:8080/",
          "height": 35
        },
        "outputId": "47f55ab4-d8a2-425c-ce5a-a521ece3c601"
      },
      "cell_type": "code",
      "source": [
        "len(glove_embeddings_index)"
      ],
      "execution_count": 98,
      "outputs": [
        {
          "output_type": "execute_result",
          "data": {
            "text/plain": [
              "400000"
            ]
          },
          "metadata": {
            "tags": []
          },
          "execution_count": 98
        }
      ]
    },
    {
      "metadata": {
        "id": "HVokxbT84-Hb",
        "colab_type": "code",
        "colab": {
          "base_uri": "https://localhost:8080/",
          "height": 755
        },
        "outputId": "d33bd7d6-2792-4559-b49a-84e15e34e647"
      },
      "cell_type": "code",
      "source": [
        "glove_embeddings_index[\"name\"]"
      ],
      "execution_count": 99,
      "outputs": [
        {
          "output_type": "execute_result",
          "data": {
            "text/plain": [
              "array([ 5.5743e-03,  2.4747e-01,  4.5100e-01, -4.9505e-01,  2.9542e-01,\n",
              "        5.0391e-02, -3.8271e-01,  4.0576e-01,  2.3222e-01, -5.3135e-01,\n",
              "       -4.9035e-01,  2.2239e-01, -2.0893e-01, -2.0206e-01,  3.7711e-01,\n",
              "       -2.2803e-01,  1.8727e-01,  6.0747e-01,  1.4998e-02, -6.7913e-01,\n",
              "        1.5102e-01,  2.4334e+00, -1.9265e-02, -2.8921e-01,  1.7832e-01,\n",
              "       -4.3152e-01, -2.2964e-03, -2.2993e-01, -8.6978e-03,  2.0207e-01,\n",
              "       -1.9223e-01, -1.3183e-01, -7.6639e-01,  3.1492e-02,  1.0237e-01,\n",
              "       -4.0653e-01, -7.6343e-01, -2.7586e-01,  2.0857e-01, -4.7050e-01,\n",
              "       -5.1349e-01, -4.1884e-01, -3.0215e-01, -3.7731e-01, -1.2842e-01,\n",
              "        1.4257e-02,  9.5418e-01,  7.7223e-02,  2.4504e-01,  4.0085e-01,\n",
              "       -4.2537e-01, -3.4369e-01,  1.7437e-01, -1.4341e-01,  1.9034e-01,\n",
              "        1.7305e-01, -6.5913e-01, -2.4182e-01,  1.4223e-01,  3.1965e-01,\n",
              "       -1.4229e-01, -2.6876e-01, -5.6598e-01, -2.0743e-01, -4.8883e-02,\n",
              "       -2.5116e-01, -5.8441e-01,  1.5137e-01,  6.1074e-01,  4.5295e-01,\n",
              "        5.7703e-01,  8.3000e-02,  1.1800e-01,  1.0621e-01, -5.6573e-01,\n",
              "       -2.9933e-01, -5.6226e-01, -2.5600e-01,  1.0262e-02, -1.9624e-01,\n",
              "        8.6919e-01, -1.3107e-01,  5.3682e-02, -1.9224e-02,  2.8491e-02,\n",
              "        1.0110e-01, -9.3476e-01, -2.9522e-01,  5.0772e-01, -5.2648e-01,\n",
              "       -2.0415e-03,  5.0831e-01, -2.8505e-01, -2.7463e-01, -6.0284e-01,\n",
              "       -1.9821e-02, -5.1709e-01, -5.5974e-01, -7.7725e-01, -1.6878e-01,\n",
              "       -2.3151e-01,  4.3936e-01,  4.5771e-01, -4.0739e-02, -4.8348e-01,\n",
              "       -2.8668e-01,  1.8513e-02,  8.1888e-01, -9.1480e-02,  3.3771e-01,\n",
              "        7.5704e-01, -6.7671e-02, -3.0150e-01, -1.1714e-01, -2.8034e-01,\n",
              "        3.4288e-01,  1.7978e-01,  5.2791e-01, -5.7977e-01, -1.0084e-01,\n",
              "        1.1478e-01,  1.4814e-01,  2.1357e-02, -2.9304e-01,  9.5922e-01,\n",
              "       -3.1904e-01, -7.1235e-02,  6.7696e-01,  2.7285e-01, -6.6967e-01,\n",
              "       -1.7500e-02,  2.3602e-01,  4.3643e-01,  2.1041e-01, -1.0885e-01,\n",
              "       -4.2655e-01, -5.5162e-01, -6.8067e-03, -2.6818e-01, -1.0047e-01,\n",
              "        3.9184e-01,  4.2896e-01,  1.0007e+00, -1.8747e-01,  8.9460e-01,\n",
              "        1.1824e-01, -1.0737e-01, -4.8784e-01,  2.3832e-01, -4.1334e-01,\n",
              "       -2.2204e-01,  1.4413e-01, -4.7810e-01, -2.2739e-01,  1.1758e-01,\n",
              "        6.3451e-01, -1.6931e-01, -2.4447e-01, -2.6380e-01, -1.8643e-01,\n",
              "        1.2067e-01, -2.5819e-01, -8.0609e-04, -4.1479e-01, -9.0256e-02,\n",
              "        4.7874e-01,  2.6280e-01,  1.1969e-01,  3.5177e-01,  3.6427e-01,\n",
              "       -9.2065e-02,  1.4596e-01,  7.7670e-01, -6.1852e-01,  2.5811e-01,\n",
              "       -5.4027e-03, -1.1696e-01, -3.8421e-01, -1.5325e-01, -2.4812e-01,\n",
              "        3.7088e-01, -3.9669e-01, -1.9051e-01, -4.2416e-01, -5.0728e-01,\n",
              "       -3.8450e-01,  9.4589e-02,  4.2882e-01,  4.7247e-02,  1.8758e-01,\n",
              "        1.2425e-01,  3.8024e-01,  2.4358e-01, -1.4740e-01,  2.5363e-02,\n",
              "       -3.3543e-01, -1.7144e-01,  3.0439e-02,  4.7877e-01,  1.2243e-01],\n",
              "      dtype=float32)"
            ]
          },
          "metadata": {
            "tags": []
          },
          "execution_count": 99
        }
      ]
    },
    {
      "metadata": {
        "id": "Mu5VpuGK5Zel",
        "colab_type": "code",
        "colab": {
          "base_uri": "https://localhost:8080/",
          "height": 35
        },
        "outputId": "eaef4925-a921-4b56-86af-16297a6acaf8"
      },
      "cell_type": "code",
      "source": [
        "glove_embeddings_index[\"name\"].shape"
      ],
      "execution_count": 100,
      "outputs": [
        {
          "output_type": "execute_result",
          "data": {
            "text/plain": [
              "(200,)"
            ]
          },
          "metadata": {
            "tags": []
          },
          "execution_count": 100
        }
      ]
    },
    {
      "metadata": {
        "id": "jPZm7Ua-66-Y",
        "colab_type": "code",
        "colab": {}
      },
      "cell_type": "code",
      "source": [
        "unk = \"<UNK>\"\n",
        "pad = \"<PAD> \""
      ],
      "execution_count": 0,
      "outputs": []
    },
    {
      "metadata": {
        "id": "hVGGBAxw67EF",
        "colab_type": "code",
        "colab": {}
      },
      "cell_type": "code",
      "source": [
        "max_article_len = 2000\n",
        "padded_article_sentence = []\n",
        "for line in article_list:\n",
        "  padded_line = []\n",
        "  words = line.split()\n",
        "  lentxt = len(words)\n",
        "  if lentxt < max_article_len:\n",
        "    num = max_article_len - lentxt\n",
        "    pad_num = pad * num\n",
        "    words = words + pad_num.split()\n",
        "    if len(words) != max_article_len:\n",
        "      print(\"error1\")\n",
        "      break\n",
        "  elif lentxt > max_article_len:\n",
        "    words = words[:2000]\n",
        "    if len(words) != max_article_len:\n",
        "      print(\"error2\")\n",
        "      break\n",
        "  for w in words:\n",
        "    if w not in glove_embeddings_index and w != \"<PAD>\":\n",
        "      w = unk\n",
        "    padded_line.append(w)\n",
        "  if len(padded_line) != max_article_len:\n",
        "    print(\"error3\")\n",
        "    break\n",
        "  complete_line = \" \".join(padded_line)\n",
        "  padded_article_sentence.append(\" \".join(padded_line))"
      ],
      "execution_count": 0,
      "outputs": []
    },
    {
      "metadata": {
        "id": "kDfMsROL_ch0",
        "colab_type": "code",
        "colab": {
          "base_uri": "https://localhost:8080/",
          "height": 55
        },
        "outputId": "1fce9536-7732-4036-9598-a79e86f9e48c"
      },
      "cell_type": "code",
      "source": [
        "padded_article_sentence[0]"
      ],
      "execution_count": 103,
      "outputs": [
        {
          "output_type": "execute_result",
          "data": {
            "text/plain": [
              "'seeking deal on air eu and us have agreed to begin talks on ending subsidies given to aircraft eu trade commissioner peter mandelson has sides hope to reach a negotiated deal over state aid received by european aircraft maker airbus and its us rival mr mandelson airbus and boeing accuse each other of benefiting from illegal mr mandelson said the eu and us hoped to avoid having to resolve the dispute at the world trade organisation this agreement the eu and us have confirmed their willingness to resolve the dispute which has arisen between mr mandelson hope our negotiations in the next three months will lead to an agreement ending subsidies to development and production of large civil last the us terminated an agreement with the reached in which limits the subsidies countries can hand over to civil aircraft the us filed a complaint against brussels with the wto over state aid to prompting a retaliatory eu complaint over us support for both sides agreed to suspend their requests for wto arbitration at the beginning of to allow bilateral talks to eads and bae the european defence and aerospace firms which own welcomed mr has always been preferable that any differences between the us and europe on this matter be overcome through constructive discussion rather than through legal the companies said in a joint the largest package delivery said it had placed an order for airbus superjumbo with an option to buy more of the the us company said it needed to expand its air freight capacity following strong international and would begin receiving deliveries of the from american said it was cutting a previous order for smaller airbus from planes to so airbus has delivered to airbus overtook boeing as the largest manufacturer of commercial airliners in <PAD> <PAD> <PAD> <PAD> <PAD> <PAD> <PAD> <PAD> <PAD> <PAD> <PAD> <PAD> <PAD> <PAD> <PAD> <PAD> <PAD> <PAD> <PAD> <PAD> <PAD> <PAD> <PAD> <PAD> <PAD> <PAD> <PAD> <PAD> <PAD> <PAD> <PAD> <PAD> <PAD> <PAD> <PAD> <PAD> <PAD> <PAD> <PAD> <PAD> <PAD> <PAD> <PAD> <PAD> <PAD> <PAD> <PAD> <PAD> <PAD> <PAD> <PAD> <PAD> <PAD> <PAD> <PAD> <PAD> <PAD> <PAD> <PAD> <PAD> <PAD> <PAD> <PAD> <PAD> <PAD> <PAD> <PAD> <PAD> <PAD> <PAD> <PAD> <PAD> <PAD> <PAD> <PAD> <PAD> <PAD> <PAD> <PAD> <PAD> <PAD> <PAD> <PAD> <PAD> <PAD> <PAD> <PAD> <PAD> <PAD> <PAD> <PAD> <PAD> <PAD> <PAD> <PAD> <PAD> <PAD> <PAD> <PAD> <PAD> <PAD> <PAD> <PAD> <PAD> <PAD> <PAD> <PAD> <PAD> <PAD> <PAD> <PAD> <PAD> <PAD> <PAD> <PAD> <PAD> <PAD> <PAD> <PAD> <PAD> <PAD> <PAD> <PAD> <PAD> <PAD> <PAD> <PAD> <PAD> <PAD> <PAD> <PAD> <PAD> <PAD> <PAD> <PAD> <PAD> <PAD> <PAD> <PAD> <PAD> <PAD> <PAD> <PAD> <PAD> <PAD> <PAD> <PAD> <PAD> <PAD> <PAD> <PAD> <PAD> <PAD> <PAD> <PAD> <PAD> <PAD> <PAD> <PAD> <PAD> <PAD> <PAD> <PAD> <PAD> <PAD> <PAD> <PAD> <PAD> <PAD> <PAD> <PAD> <PAD> <PAD> <PAD> <PAD> <PAD> <PAD> <PAD> <PAD> <PAD> <PAD> <PAD> <PAD> <PAD> <PAD> <PAD> <PAD> <PAD> <PAD> <PAD> <PAD> <PAD> <PAD> <PAD> <PAD> <PAD> <PAD> <PAD> <PAD> <PAD> <PAD> <PAD> <PAD> <PAD> <PAD> <PAD> <PAD> <PAD> <PAD> <PAD> <PAD> <PAD> <PAD> <PAD> <PAD> <PAD> <PAD> <PAD> <PAD> <PAD> <PAD> <PAD> <PAD> <PAD> <PAD> <PAD> <PAD> <PAD> <PAD> <PAD> <PAD> <PAD> <PAD> <PAD> <PAD> <PAD> <PAD> <PAD> <PAD> <PAD> <PAD> <PAD> <PAD> <PAD> <PAD> <PAD> <PAD> <PAD> <PAD> <PAD> <PAD> <PAD> <PAD> <PAD> <PAD> <PAD> <PAD> <PAD> <PAD> <PAD> <PAD> <PAD> <PAD> <PAD> <PAD> <PAD> <PAD> <PAD> <PAD> <PAD> <PAD> <PAD> <PAD> <PAD> <PAD> <PAD> <PAD> <PAD> <PAD> <PAD> <PAD> <PAD> <PAD> <PAD> <PAD> <PAD> <PAD> <PAD> <PAD> <PAD> <PAD> <PAD> <PAD> <PAD> <PAD> <PAD> <PAD> <PAD> <PAD> <PAD> <PAD> <PAD> <PAD> <PAD> <PAD> <PAD> <PAD> <PAD> <PAD> <PAD> <PAD> <PAD> <PAD> <PAD> <PAD> <PAD> <PAD> <PAD> <PAD> <PAD> <PAD> <PAD> <PAD> <PAD> <PAD> <PAD> <PAD> <PAD> <PAD> <PAD> <PAD> <PAD> <PAD> <PAD> <PAD> <PAD> <PAD> <PAD> <PAD> <PAD> <PAD> <PAD> <PAD> <PAD> <PAD> <PAD> <PAD> <PAD> <PAD> <PAD> <PAD> <PAD> <PAD> <PAD> <PAD> <PAD> <PAD> <PAD> <PAD> <PAD> <PAD> <PAD> <PAD> <PAD> <PAD> <PAD> <PAD> <PAD> <PAD> <PAD> <PAD> <PAD> <PAD> <PAD> <PAD> <PAD> <PAD> <PAD> <PAD> <PAD> <PAD> <PAD> <PAD> <PAD> <PAD> <PAD> <PAD> <PAD> <PAD> <PAD> <PAD> <PAD> <PAD> <PAD> <PAD> <PAD> <PAD> <PAD> <PAD> <PAD> <PAD> <PAD> <PAD> <PAD> <PAD> <PAD> <PAD> <PAD> <PAD> <PAD> <PAD> <PAD> <PAD> <PAD> <PAD> <PAD> <PAD> <PAD> <PAD> <PAD> <PAD> <PAD> <PAD> <PAD> <PAD> <PAD> <PAD> <PAD> <PAD> <PAD> <PAD> <PAD> <PAD> <PAD> <PAD> <PAD> <PAD> <PAD> <PAD> <PAD> <PAD> <PAD> <PAD> <PAD> <PAD> <PAD> <PAD> <PAD> <PAD> <PAD> <PAD> <PAD> <PAD> <PAD> <PAD> <PAD> <PAD> <PAD> <PAD> <PAD> <PAD> <PAD> <PAD> <PAD> <PAD> <PAD> <PAD> <PAD> <PAD> <PAD> <PAD> <PAD> <PAD> <PAD> <PAD> <PAD> <PAD> <PAD> <PAD> <PAD> <PAD> <PAD> <PAD> <PAD> <PAD> <PAD> <PAD> <PAD> <PAD> <PAD> <PAD> <PAD> <PAD> <PAD> <PAD> <PAD> <PAD> <PAD> <PAD> <PAD> <PAD> <PAD> <PAD> <PAD> <PAD> <PAD> <PAD> <PAD> <PAD> <PAD> <PAD> <PAD> <PAD> <PAD> <PAD> <PAD> <PAD> <PAD> <PAD> <PAD> <PAD> <PAD> <PAD> <PAD> <PAD> <PAD> <PAD> <PAD> <PAD> <PAD> <PAD> <PAD> <PAD> <PAD> <PAD> <PAD> <PAD> <PAD> <PAD> <PAD> <PAD> <PAD> <PAD> <PAD> <PAD> <PAD> <PAD> <PAD> <PAD> <PAD> <PAD> <PAD> <PAD> <PAD> <PAD> <PAD> <PAD> <PAD> <PAD> <PAD> <PAD> <PAD> <PAD> <PAD> <PAD> <PAD> <PAD> <PAD> <PAD> <PAD> <PAD> <PAD> <PAD> <PAD> <PAD> <PAD> <PAD> <PAD> <PAD> <PAD> <PAD> <PAD> <PAD> <PAD> <PAD> <PAD> <PAD> <PAD> <PAD> <PAD> <PAD> <PAD> <PAD> <PAD> <PAD> <PAD> <PAD> <PAD> <PAD> <PAD> <PAD> <PAD> <PAD> <PAD> <PAD> <PAD> <PAD> <PAD> <PAD> <PAD> <PAD> <PAD> <PAD> <PAD> <PAD> <PAD> <PAD> <PAD> <PAD> <PAD> <PAD> <PAD> <PAD> <PAD> <PAD> <PAD> <PAD> <PAD> <PAD> <PAD> <PAD> <PAD> <PAD> <PAD> <PAD> <PAD> <PAD> <PAD> <PAD> <PAD> <PAD> <PAD> <PAD> <PAD> <PAD> <PAD> <PAD> <PAD> <PAD> <PAD> <PAD> <PAD> <PAD> <PAD> <PAD> <PAD> <PAD> <PAD> <PAD> <PAD> <PAD> <PAD> <PAD> <PAD> <PAD> <PAD> <PAD> <PAD> <PAD> <PAD> <PAD> <PAD> <PAD> <PAD> <PAD> <PAD> <PAD> <PAD> <PAD> <PAD> <PAD> <PAD> <PAD> <PAD> <PAD> <PAD> <PAD> <PAD> <PAD> <PAD> <PAD> <PAD> <PAD> <PAD> <PAD> <PAD> <PAD> <PAD> <PAD> <PAD> <PAD> <PAD> <PAD> <PAD> <PAD> <PAD> <PAD> <PAD> <PAD> <PAD> <PAD> <PAD> <PAD> <PAD> <PAD> <PAD> <PAD> <PAD> <PAD> <PAD> <PAD> <PAD> <PAD> <PAD> <PAD> <PAD> <PAD> <PAD> <PAD> <PAD> <PAD> <PAD> <PAD> <PAD> <PAD> <PAD> <PAD> <PAD> <PAD> <PAD> <PAD> <PAD> <PAD> <PAD> <PAD> <PAD> <PAD> <PAD> <PAD> <PAD> <PAD> <PAD> <PAD> <PAD> <PAD> <PAD> <PAD> <PAD> <PAD> <PAD> <PAD> <PAD> <PAD> <PAD> <PAD> <PAD> <PAD> <PAD> <PAD> <PAD> <PAD> <PAD> <PAD> <PAD> <PAD> <PAD> <PAD> <PAD> <PAD> <PAD> <PAD> <PAD> <PAD> <PAD> <PAD> <PAD> <PAD> <PAD> <PAD> <PAD> <PAD> <PAD> <PAD> <PAD> <PAD> <PAD> <PAD> <PAD> <PAD> <PAD> <PAD> <PAD> <PAD> <PAD> <PAD> <PAD> <PAD> <PAD> <PAD> <PAD> <PAD> <PAD> <PAD> <PAD> <PAD> <PAD> <PAD> <PAD> <PAD> <PAD> <PAD> <PAD> <PAD> <PAD> <PAD> <PAD> <PAD> <PAD> <PAD> <PAD> <PAD> <PAD> <PAD> <PAD> <PAD> <PAD> <PAD> <PAD> <PAD> <PAD> <PAD> <PAD> <PAD> <PAD> <PAD> <PAD> <PAD> <PAD> <PAD> <PAD> <PAD> <PAD> <PAD> <PAD> <PAD> <PAD> <PAD> <PAD> <PAD> <PAD> <PAD> <PAD> <PAD> <PAD> <PAD> <PAD> <PAD> <PAD> <PAD> <PAD> <PAD> <PAD> <PAD> <PAD> <PAD> <PAD> <PAD> <PAD> <PAD> <PAD> <PAD> <PAD> <PAD> <PAD> <PAD> <PAD> <PAD> <PAD> <PAD> <PAD> <PAD> <PAD> <PAD> <PAD> <PAD> <PAD> <PAD> <PAD> <PAD> <PAD> <PAD> <PAD> <PAD> <PAD> <PAD> <PAD> <PAD> <PAD> <PAD> <PAD> <PAD> <PAD> <PAD> <PAD> <PAD> <PAD> <PAD> <PAD> <PAD> <PAD> <PAD> <PAD> <PAD> <PAD> <PAD> <PAD> <PAD> <PAD> <PAD> <PAD> <PAD> <PAD> <PAD> <PAD> <PAD> <PAD> <PAD> <PAD> <PAD> <PAD> <PAD> <PAD> <PAD> <PAD> <PAD> <PAD> <PAD> <PAD> <PAD> <PAD> <PAD> <PAD> <PAD> <PAD> <PAD> <PAD> <PAD> <PAD> <PAD> <PAD> <PAD> <PAD> <PAD> <PAD> <PAD> <PAD> <PAD> <PAD> <PAD> <PAD> <PAD> <PAD> <PAD> <PAD> <PAD> <PAD> <PAD> <PAD> <PAD> <PAD> <PAD> <PAD> <PAD> <PAD> <PAD> <PAD> <PAD> <PAD> <PAD> <PAD> <PAD> <PAD> <PAD> <PAD> <PAD> <PAD> <PAD> <PAD> <PAD> <PAD> <PAD> <PAD> <PAD> <PAD> <PAD> <PAD> <PAD> <PAD> <PAD> <PAD> <PAD> <PAD> <PAD> <PAD> <PAD> <PAD> <PAD> <PAD> <PAD> <PAD> <PAD> <PAD> <PAD> <PAD> <PAD> <PAD> <PAD> <PAD> <PAD> <PAD> <PAD> <PAD> <PAD> <PAD> <PAD> <PAD> <PAD> <PAD> <PAD> <PAD> <PAD> <PAD> <PAD> <PAD> <PAD> <PAD> <PAD> <PAD> <PAD> <PAD> <PAD> <PAD> <PAD> <PAD> <PAD> <PAD> <PAD> <PAD> <PAD> <PAD> <PAD> <PAD> <PAD> <PAD> <PAD> <PAD> <PAD> <PAD> <PAD> <PAD> <PAD> <PAD> <PAD> <PAD> <PAD> <PAD> <PAD> <PAD> <PAD> <PAD> <PAD> <PAD> <PAD> <PAD> <PAD> <PAD> <PAD> <PAD> <PAD> <PAD> <PAD> <PAD> <PAD> <PAD> <PAD> <PAD> <PAD> <PAD> <PAD> <PAD> <PAD> <PAD> <PAD> <PAD> <PAD> <PAD> <PAD> <PAD> <PAD> <PAD> <PAD> <PAD> <PAD> <PAD> <PAD> <PAD> <PAD> <PAD> <PAD> <PAD> <PAD> <PAD> <PAD> <PAD> <PAD> <PAD> <PAD> <PAD> <PAD> <PAD> <PAD> <PAD> <PAD> <PAD> <PAD> <PAD> <PAD> <PAD> <PAD> <PAD> <PAD> <PAD> <PAD> <PAD> <PAD> <PAD> <PAD> <PAD> <PAD> <PAD> <PAD> <PAD> <PAD> <PAD> <PAD> <PAD> <PAD> <PAD> <PAD> <PAD> <PAD> <PAD> <PAD> <PAD> <PAD> <PAD> <PAD> <PAD> <PAD> <PAD> <PAD> <PAD> <PAD> <PAD> <PAD> <PAD> <PAD> <PAD> <PAD> <PAD> <PAD> <PAD> <PAD> <PAD> <PAD> <PAD> <PAD> <PAD> <PAD> <PAD> <PAD> <PAD> <PAD> <PAD> <PAD> <PAD> <PAD> <PAD> <PAD> <PAD> <PAD> <PAD> <PAD> <PAD> <PAD> <PAD> <PAD> <PAD> <PAD> <PAD> <PAD> <PAD> <PAD> <PAD> <PAD> <PAD> <PAD> <PAD> <PAD> <PAD> <PAD> <PAD> <PAD> <PAD> <PAD> <PAD> <PAD> <PAD> <PAD> <PAD> <PAD> <PAD> <PAD> <PAD> <PAD> <PAD> <PAD> <PAD> <PAD> <PAD> <PAD> <PAD> <PAD> <PAD> <PAD> <PAD> <PAD> <PAD> <PAD> <PAD> <PAD> <PAD> <PAD> <PAD> <PAD> <PAD> <PAD> <PAD> <PAD> <PAD> <PAD> <PAD> <PAD> <PAD> <PAD> <PAD> <PAD> <PAD> <PAD> <PAD> <PAD> <PAD> <PAD> <PAD> <PAD> <PAD> <PAD> <PAD> <PAD> <PAD> <PAD> <PAD> <PAD> <PAD> <PAD> <PAD> <PAD> <PAD> <PAD> <PAD> <PAD> <PAD> <PAD> <PAD> <PAD> <PAD> <PAD> <PAD> <PAD> <PAD> <PAD> <PAD> <PAD> <PAD> <PAD> <PAD> <PAD> <PAD> <PAD> <PAD> <PAD> <PAD> <PAD> <PAD> <PAD> <PAD> <PAD> <PAD> <PAD> <PAD> <PAD> <PAD> <PAD> <PAD> <PAD> <PAD> <PAD> <PAD> <PAD> <PAD> <PAD> <PAD> <PAD> <PAD> <PAD> <PAD> <PAD> <PAD> <PAD> <PAD> <PAD> <PAD> <PAD> <PAD> <PAD> <PAD> <PAD> <PAD> <PAD> <PAD> <PAD> <PAD> <PAD> <PAD> <PAD> <PAD> <PAD> <PAD> <PAD> <PAD> <PAD> <PAD> <PAD> <PAD> <PAD> <PAD> <PAD> <PAD> <PAD> <PAD> <PAD> <PAD> <PAD> <PAD> <PAD> <PAD> <PAD> <PAD> <PAD> <PAD> <PAD> <PAD> <PAD> <PAD> <PAD> <PAD> <PAD> <PAD> <PAD> <PAD> <PAD> <PAD> <PAD> <PAD> <PAD> <PAD> <PAD> <PAD> <PAD> <PAD> <PAD> <PAD> <PAD> <PAD> <PAD> <PAD> <PAD> <PAD> <PAD> <PAD> <PAD> <PAD> <PAD> <PAD> <PAD> <PAD> <PAD> <PAD> <PAD> <PAD> <PAD> <PAD> <PAD> <PAD> <PAD> <PAD> <PAD> <PAD> <PAD> <PAD> <PAD> <PAD> <PAD> <PAD> <PAD> <PAD> <PAD> <PAD> <PAD> <PAD> <PAD> <PAD> <PAD> <PAD> <PAD> <PAD> <PAD> <PAD> <PAD> <PAD> <PAD> <PAD> <PAD> <PAD> <PAD> <PAD> <PAD> <PAD> <PAD> <PAD> <PAD> <PAD> <PAD> <PAD> <PAD> <PAD> <PAD> <PAD> <PAD> <PAD> <PAD> <PAD> <PAD> <PAD> <PAD> <PAD> <PAD> <PAD> <PAD> <PAD> <PAD> <PAD> <PAD> <PAD> <PAD> <PAD> <PAD> <PAD> <PAD> <PAD> <PAD> <PAD> <PAD> <PAD> <PAD> <PAD> <PAD> <PAD> <PAD> <PAD> <PAD> <PAD> <PAD> <PAD> <PAD> <PAD> <PAD> <PAD> <PAD> <PAD> <PAD> <PAD> <PAD> <PAD> <PAD> <PAD> <PAD> <PAD> <PAD> <PAD> <PAD> <PAD> <PAD> <PAD> <PAD> <PAD> <PAD> <PAD> <PAD> <PAD> <PAD> <PAD> <PAD> <PAD> <PAD> <PAD> <PAD> <PAD> <PAD> <PAD> <PAD> <PAD> <PAD> <PAD> <PAD> <PAD> <PAD> <PAD> <PAD> <PAD> <PAD> <PAD> <PAD> <PAD> <PAD> <PAD> <PAD> <PAD> <PAD> <PAD> <PAD> <PAD> <PAD> <PAD> <PAD> <PAD> <PAD> <PAD> <PAD> <PAD> <PAD> <PAD> <PAD> <PAD> <PAD> <PAD> <PAD> <PAD> <PAD> <PAD> <PAD> <PAD> <PAD> <PAD> <PAD> <PAD> <PAD> <PAD> <PAD> <PAD> <PAD> <PAD> <PAD> <PAD> <PAD> <PAD> <PAD> <PAD> <PAD> <PAD> <PAD> <PAD> <PAD> <PAD> <PAD> <PAD> <PAD> <PAD> <PAD> <PAD> <PAD> <PAD> <PAD> <PAD> <PAD> <PAD> <PAD> <PAD> <PAD> <PAD> <PAD> <PAD> <PAD> <PAD> <PAD> <PAD> <PAD> <PAD> <PAD> <PAD> <PAD> <PAD> <PAD> <PAD> <PAD> <PAD> <PAD> <PAD> <PAD> <PAD> <PAD> <PAD> <PAD> <PAD> <PAD> <PAD> <PAD> <PAD> <PAD> <PAD> <PAD> <PAD> <PAD> <PAD> <PAD> <PAD> <PAD> <PAD> <PAD> <PAD> <PAD> <PAD> <PAD> <PAD> <PAD> <PAD> <PAD> <PAD> <PAD> <PAD> <PAD> <PAD> <PAD> <PAD> <PAD> <PAD> <PAD> <PAD> <PAD> <PAD> <PAD> <PAD> <PAD> <PAD> <PAD> <PAD> <PAD> <PAD> <PAD> <PAD> <PAD> <PAD> <PAD> <PAD> <PAD> <PAD> <PAD> <PAD> <PAD> <PAD> <PAD> <PAD>'"
            ]
          },
          "metadata": {
            "tags": []
          },
          "execution_count": 103
        }
      ]
    },
    {
      "metadata": {
        "id": "gY0FW1Ny_scx",
        "colab_type": "code",
        "colab": {}
      },
      "cell_type": "code",
      "source": [
        "max_summary_len = 500\n",
        "padded_summary_sentence = []\n",
        "for line in summary_list:\n",
        "  padded_line = []\n",
        "  words = line.split()\n",
        "  lentxt = len(words)\n",
        "  if lentxt < max_summary_len:\n",
        "    num = max_summary_len - lentxt\n",
        "    pad_num = pad * num\n",
        "    words = words + pad_num.split()\n",
        "    if len(words) != max_summary_len:\n",
        "      print(\"error1\")\n",
        "      break\n",
        "  elif lentxt > max_summary_len:\n",
        "    words = words[:500]\n",
        "    if len(words) != max_summary_len:\n",
        "      print(\"error2\")\n",
        "      break\n",
        "  for w in words:\n",
        "    if w not in glove_embeddings_index and w != \"<PAD>\":\n",
        "      w = unk\n",
        "    padded_line.append(w)\n",
        "  if len(padded_line) != max_summary_len:\n",
        "    print(\"error3\")\n",
        "    break\n",
        "  complete_line = \" \".join(padded_line)\n",
        "  padded_summary_sentence.append(\" \".join(padded_line))"
      ],
      "execution_count": 0,
      "outputs": []
    },
    {
      "metadata": {
        "id": "lWKVPzhl_sZ4",
        "colab_type": "code",
        "colab": {
          "base_uri": "https://localhost:8080/",
          "height": 55
        },
        "outputId": "75345129-b145-464e-a01b-eb589def8eb0"
      },
      "cell_type": "code",
      "source": [
        "padded_summary_sentence[0]"
      ],
      "execution_count": 105,
      "outputs": [
        {
          "output_type": "execute_result",
          "data": {
            "text/plain": [
              "'sides hope to reach a negotiated deal over state aid received by european aircraft maker airbus and its us rival mr mandelson this agreement the eu and us have confirmed their willingness to resolve the dispute which has arisen between mr mandelson us filed a complaint against brussels with the wto over state aid to prompting a retaliatory eu complaint over us support for eu and us have agreed to begin talks on ending subsidies given to aircraft eu trade commissioner peter mandelson has mandelson said the eu and us hoped to avoid having to resolve the dispute at the world trade organisation the largest package delivery said it had placed an order for airbus superjumbo with an option to buy more of the american said it was cutting a previous order for smaller airbus from planes to <PAD> <PAD> <PAD> <PAD> <PAD> <PAD> <PAD> <PAD> <PAD> <PAD> <PAD> <PAD> <PAD> <PAD> <PAD> <PAD> <PAD> <PAD> <PAD> <PAD> <PAD> <PAD> <PAD> <PAD> <PAD> <PAD> <PAD> <PAD> <PAD> <PAD> <PAD> <PAD> <PAD> <PAD> <PAD> <PAD> <PAD> <PAD> <PAD> <PAD> <PAD> <PAD> <PAD> <PAD> <PAD> <PAD> <PAD> <PAD> <PAD> <PAD> <PAD> <PAD> <PAD> <PAD> <PAD> <PAD> <PAD> <PAD> <PAD> <PAD> <PAD> <PAD> <PAD> <PAD> <PAD> <PAD> <PAD> <PAD> <PAD> <PAD> <PAD> <PAD> <PAD> <PAD> <PAD> <PAD> <PAD> <PAD> <PAD> <PAD> <PAD> <PAD> <PAD> <PAD> <PAD> <PAD> <PAD> <PAD> <PAD> <PAD> <PAD> <PAD> <PAD> <PAD> <PAD> <PAD> <PAD> <PAD> <PAD> <PAD> <PAD> <PAD> <PAD> <PAD> <PAD> <PAD> <PAD> <PAD> <PAD> <PAD> <PAD> <PAD> <PAD> <PAD> <PAD> <PAD> <PAD> <PAD> <PAD> <PAD> <PAD> <PAD> <PAD> <PAD> <PAD> <PAD> <PAD> <PAD> <PAD> <PAD> <PAD> <PAD> <PAD> <PAD> <PAD> <PAD> <PAD> <PAD> <PAD> <PAD> <PAD> <PAD> <PAD> <PAD> <PAD> <PAD> <PAD> <PAD> <PAD> <PAD> <PAD> <PAD> <PAD> <PAD> <PAD> <PAD> <PAD> <PAD> <PAD> <PAD> <PAD> <PAD> <PAD> <PAD> <PAD> <PAD> <PAD> <PAD> <PAD> <PAD> <PAD> <PAD> <PAD> <PAD> <PAD> <PAD> <PAD> <PAD> <PAD> <PAD> <PAD> <PAD> <PAD> <PAD> <PAD> <PAD> <PAD> <PAD> <PAD> <PAD> <PAD> <PAD> <PAD> <PAD> <PAD> <PAD> <PAD> <PAD> <PAD> <PAD> <PAD> <PAD> <PAD> <PAD> <PAD> <PAD> <PAD> <PAD> <PAD> <PAD> <PAD> <PAD> <PAD> <PAD> <PAD> <PAD> <PAD> <PAD> <PAD> <PAD> <PAD> <PAD> <PAD> <PAD> <PAD> <PAD> <PAD> <PAD> <PAD> <PAD> <PAD> <PAD> <PAD> <PAD> <PAD> <PAD> <PAD> <PAD> <PAD> <PAD> <PAD> <PAD> <PAD> <PAD> <PAD> <PAD> <PAD> <PAD> <PAD> <PAD> <PAD> <PAD> <PAD> <PAD> <PAD> <PAD> <PAD> <PAD> <PAD> <PAD> <PAD> <PAD> <PAD> <PAD> <PAD> <PAD> <PAD> <PAD> <PAD> <PAD> <PAD> <PAD> <PAD> <PAD> <PAD> <PAD> <PAD> <PAD> <PAD> <PAD> <PAD> <PAD> <PAD> <PAD> <PAD> <PAD> <PAD> <PAD> <PAD> <PAD> <PAD> <PAD> <PAD> <PAD> <PAD> <PAD> <PAD> <PAD> <PAD> <PAD> <PAD> <PAD> <PAD> <PAD> <PAD> <PAD> <PAD> <PAD> <PAD> <PAD> <PAD> <PAD> <PAD> <PAD> <PAD> <PAD> <PAD> <PAD> <PAD> <PAD> <PAD> <PAD> <PAD> <PAD> <PAD> <PAD> <PAD> <PAD> <PAD> <PAD> <PAD> <PAD> <PAD> <PAD> <PAD> <PAD> <PAD> <PAD> <PAD> <PAD> <PAD> <PAD> <PAD> <PAD> <PAD> <PAD> <PAD> <PAD> <PAD> <PAD> <PAD> <PAD> <PAD> <PAD> <PAD> <PAD> <PAD> <PAD> <PAD> <PAD> <PAD> <PAD>'"
            ]
          },
          "metadata": {
            "tags": []
          },
          "execution_count": 105
        }
      ]
    },
    {
      "metadata": {
        "id": "g2V0eVxt67Jv",
        "colab_type": "code",
        "colab": {}
      },
      "cell_type": "code",
      "source": [
        "counter = 0\n",
        "glove_article_vocab = {}\n",
        "for line in padded_article_sentence:\n",
        "  words = line.split()\n",
        "  for w in words:\n",
        "    if w in glove_embeddings_index:\n",
        "      if w not in glove_article_vocab:\n",
        "        glove_article_vocab[w] = glove_embeddings_index[w]\n",
        "        counter += 1\n",
        "    elif w == \"<UNK>\":\n",
        "      glove_article_vocab[w] = np.zeros(200)\n",
        "    elif w == \"<PAD>\":\n",
        "      glove_article_vocab[w] = np.ones(200)\n",
        "    else:\n",
        "      continue"
      ],
      "execution_count": 0,
      "outputs": []
    },
    {
      "metadata": {
        "id": "C0p3tIJ-BsGS",
        "colab_type": "code",
        "colab": {
          "base_uri": "https://localhost:8080/",
          "height": 35
        },
        "outputId": "d9d89349-0b8b-40db-be4b-470e9cdb0231"
      },
      "cell_type": "code",
      "source": [
        "article_vocab_size = counter + 2\n",
        "article_vocab_size"
      ],
      "execution_count": 107,
      "outputs": [
        {
          "output_type": "execute_result",
          "data": {
            "text/plain": [
              "23209"
            ]
          },
          "metadata": {
            "tags": []
          },
          "execution_count": 107
        }
      ]
    },
    {
      "metadata": {
        "id": "N9OhLFlyzrCc",
        "colab_type": "code",
        "colab": {}
      },
      "cell_type": "code",
      "source": [
        "counter = 0\n",
        "glove_summary_vocab = {}\n",
        "for line in padded_summary_sentence:\n",
        "  words = line.split()\n",
        "  for w in words:\n",
        "    if w in glove_embeddings_index:\n",
        "      if w not in glove_summary_vocab:\n",
        "        glove_summary_vocab[w] = glove_embeddings_index[w]\n",
        "        counter += 1\n",
        "    elif w == \"<UNK>\":\n",
        "      glove_summary_vocab[w] = np.zeros(200)\n",
        "    elif w == \"<PAD>\":\n",
        "      glove_summary_vocab[w] = np.ones(200)\n",
        "    else:\n",
        "      continue"
      ],
      "execution_count": 0,
      "outputs": []
    },
    {
      "metadata": {
        "id": "ieScn4Nt6AIC",
        "colab_type": "code",
        "colab": {
          "base_uri": "https://localhost:8080/",
          "height": 35
        },
        "outputId": "41a5db46-6ba4-4bfd-a9bf-5544556a362f"
      },
      "cell_type": "code",
      "source": [
        "summary_vocab_size = counter + 2\n",
        "summary_vocab_size"
      ],
      "execution_count": 109,
      "outputs": [
        {
          "output_type": "execute_result",
          "data": {
            "text/plain": [
              "15992"
            ]
          },
          "metadata": {
            "tags": []
          },
          "execution_count": 109
        }
      ]
    },
    {
      "metadata": {
        "id": "J11NWLpAD1ck",
        "colab_type": "code",
        "colab": {
          "base_uri": "https://localhost:8080/",
          "height": 35
        },
        "outputId": "dc7893e2-b926-4f4d-cc25-0c66e37867f0"
      },
      "cell_type": "code",
      "source": [
        "all_vocab = {}\n",
        "for key in glove_summary_vocab:\n",
        "  if key not in glove_article_vocab:\n",
        "    all_vocab[key] = glove_summary_vocab[key]\n",
        "all_vocab.update(glove_summary_vocab)\n",
        "vocab_size = len(all_vocab)\n",
        "vocab_size"
      ],
      "execution_count": 110,
      "outputs": [
        {
          "output_type": "execute_result",
          "data": {
            "text/plain": [
              "15992"
            ]
          },
          "metadata": {
            "tags": []
          },
          "execution_count": 110
        }
      ]
    },
    {
      "metadata": {
        "id": "xcoSCkFc6ARx",
        "colab_type": "code",
        "colab": {
          "base_uri": "https://localhost:8080/",
          "height": 35
        },
        "outputId": "f6beef1e-40d6-4483-f539-8c77ad65ddd1"
      },
      "cell_type": "code",
      "source": [
        "embedding_matrix = np.array(list(all_vocab.values()))\n",
        "embedding_matrix.shape"
      ],
      "execution_count": 117,
      "outputs": [
        {
          "output_type": "execute_result",
          "data": {
            "text/plain": [
              "(15992, 200)"
            ]
          },
          "metadata": {
            "tags": []
          },
          "execution_count": 117
        }
      ]
    },
    {
      "metadata": {
        "id": "-T7ngAwm6AM8",
        "colab_type": "code",
        "colab": {
          "base_uri": "https://localhost:8080/",
          "height": 35
        },
        "outputId": "fcec4448-9248-45eb-91aa-bed80e43e3b9"
      },
      "cell_type": "code",
      "source": [
        "vocab_size"
      ],
      "execution_count": 114,
      "outputs": [
        {
          "output_type": "execute_result",
          "data": {
            "text/plain": [
              "15992"
            ]
          },
          "metadata": {
            "tags": []
          },
          "execution_count": 114
        }
      ]
    },
    {
      "metadata": {
        "id": "Hb3F3gGv6AXc",
        "colab_type": "code",
        "colab": {}
      },
      "cell_type": "code",
      "source": [
        "import keras\n",
        "from keras import backend as k\n",
        "k.set_learning_phase(1)\n",
        "from keras.preprocessing.text import Tokenizer\n",
        "from keras import initializers\n",
        "from keras.optimizers import RMSprop\n",
        "from keras.models import Sequential,Model\n",
        "from keras.layers import Dense,LSTM,Dropout,Input,Activation,Add,Concatenate,Embedding\n",
        "from keras.layers.advanced_activations import LeakyReLU,PReLU\n",
        "from keras.callbacks import ModelCheckpoint\n",
        "from keras.models import load_model\n",
        "from keras.optimizers import Adam"
      ],
      "execution_count": 0,
      "outputs": []
    },
    {
      "metadata": {
        "id": "X2_OPORWbR7j",
        "colab_type": "code",
        "colab": {
          "base_uri": "https://localhost:8080/",
          "height": 35
        },
        "outputId": "005e4123-201d-4153-a9a6-e8b26ef6b8a1"
      },
      "cell_type": "code",
      "source": [
        "np.array(padded_article_sentence).shape[0]"
      ],
      "execution_count": 123,
      "outputs": [
        {
          "output_type": "execute_result",
          "data": {
            "text/plain": [
              "2225"
            ]
          },
          "metadata": {
            "tags": []
          },
          "execution_count": 123
        }
      ]
    },
    {
      "metadata": {
        "id": "EY8nsYi3bR4V",
        "colab_type": "code",
        "colab": {}
      },
      "cell_type": "code",
      "source": [
        "# ========================================================================\n",
        "# model params\n",
        "# ========================================================================\n",
        "\n",
        "en_shape = np.array(padded_article_sentence).shape[0]\n",
        "de_shape = np.array(padded_summary_sentence).shape[0]\n",
        "\n",
        "MAX_ART_LEN = 2000\n",
        "MAX_SUM_LEN = 500\n",
        "EMBEDDING_DIM = 200\n",
        "HIDDEN_UNITS = 2000\n",
        "\n",
        "LEARNING_RATE = 0.002\n",
        "BATCH_SIZE = 32\n",
        "EPOCHS = 5\n",
        "\n",
        "rmsprop = RMSprop(lr=LEARNING_RATE, clipnorm=1.0)"
      ],
      "execution_count": 0,
      "outputs": []
    },
    {
      "metadata": {
        "id": "AhnpV3Qqb9oi",
        "colab_type": "code",
        "colab": {
          "base_uri": "https://localhost:8080/",
          "height": 35
        },
        "outputId": "66c103a6-8ee3-4238-af36-b4e6d99d2278"
      },
      "cell_type": "code",
      "source": [
        "print(en_shape, de_shape)"
      ],
      "execution_count": 130,
      "outputs": [
        {
          "output_type": "stream",
          "text": [
            "2225 2225\n"
          ],
          "name": "stdout"
        }
      ]
    },
    {
      "metadata": {
        "id": "uVSPEfspgD-R",
        "colab_type": "code",
        "colab": {}
      },
      "cell_type": "code",
      "source": [
        ""
      ],
      "execution_count": 0,
      "outputs": []
    },
    {
      "metadata": {
        "id": "6Y8ZtKYygg7H",
        "colab_type": "code",
        "colab": {}
      },
      "cell_type": "code",
      "source": [
        "model.compile(optimizer=rmsprop, loss=\"mse\", metrics=[\"accuracy\"])"
      ],
      "execution_count": 0,
      "outputs": []
    },
    {
      "metadata": {
        "id": "zZfisOulg2iv",
        "colab_type": "code",
        "colab": {}
      },
      "cell_type": "code",
      "source": [
        "x_train, x_val, y_train, y_val = train_test_split(padded_article_sentence, padded_summary_sentence, test_size=0.2)"
      ],
      "execution_count": 0,
      "outputs": []
    },
    {
      "metadata": {
        "id": "eeuisqiRdUgZ",
        "colab_type": "code",
        "colab": {
          "base_uri": "https://localhost:8080/",
          "height": 587
        },
        "outputId": "48eeb399-60da-409f-8c9a-f78ecbe5f865"
      },
      "cell_type": "code",
      "source": [
        "history = model.fit([x_train, y_train], batch_size=BATCH_SIZE,\n",
        "              epochs=EPOCHS, verbose=1, validation_data=(x_val, y_val))"
      ],
      "execution_count": 144,
      "outputs": [
        {
          "output_type": "error",
          "ename": "ValueError",
          "evalue": "ignored",
          "traceback": [
            "\u001b[0;31m---------------------------------------------------------------------------\u001b[0m",
            "\u001b[0;31mValueError\u001b[0m                                Traceback (most recent call last)",
            "\u001b[0;32m<ipython-input-144-95bb425d6c8e>\u001b[0m in \u001b[0;36m<module>\u001b[0;34m()\u001b[0m\n\u001b[1;32m      1\u001b[0m history = model.fit([x_train, y_train], batch_size=BATCH_SIZE,\n\u001b[0;32m----> 2\u001b[0;31m               epochs=EPOCHS, verbose=1, validation_data=(x_val, y_val))\n\u001b[0m",
            "\u001b[0;32m/usr/local/lib/python3.6/dist-packages/keras/engine/training.py\u001b[0m in \u001b[0;36mfit\u001b[0;34m(self, x, y, batch_size, epochs, verbose, callbacks, validation_split, validation_data, shuffle, class_weight, sample_weight, initial_epoch, steps_per_epoch, validation_steps, **kwargs)\u001b[0m\n\u001b[1;32m    950\u001b[0m             \u001b[0msample_weight\u001b[0m\u001b[0;34m=\u001b[0m\u001b[0msample_weight\u001b[0m\u001b[0;34m,\u001b[0m\u001b[0;34m\u001b[0m\u001b[0;34m\u001b[0m\u001b[0m\n\u001b[1;32m    951\u001b[0m             \u001b[0mclass_weight\u001b[0m\u001b[0;34m=\u001b[0m\u001b[0mclass_weight\u001b[0m\u001b[0;34m,\u001b[0m\u001b[0;34m\u001b[0m\u001b[0;34m\u001b[0m\u001b[0m\n\u001b[0;32m--> 952\u001b[0;31m             batch_size=batch_size)\n\u001b[0m\u001b[1;32m    953\u001b[0m         \u001b[0;31m# Prepare validation data.\u001b[0m\u001b[0;34m\u001b[0m\u001b[0;34m\u001b[0m\u001b[0;34m\u001b[0m\u001b[0m\n\u001b[1;32m    954\u001b[0m         \u001b[0mdo_validation\u001b[0m \u001b[0;34m=\u001b[0m \u001b[0;32mFalse\u001b[0m\u001b[0;34m\u001b[0m\u001b[0;34m\u001b[0m\u001b[0m\n",
            "\u001b[0;32m/usr/local/lib/python3.6/dist-packages/keras/engine/training.py\u001b[0m in \u001b[0;36m_standardize_user_data\u001b[0;34m(self, x, y, sample_weight, class_weight, check_array_lengths, batch_size)\u001b[0m\n\u001b[1;32m    749\u001b[0m             \u001b[0mfeed_input_shapes\u001b[0m\u001b[0;34m,\u001b[0m\u001b[0;34m\u001b[0m\u001b[0;34m\u001b[0m\u001b[0m\n\u001b[1;32m    750\u001b[0m             \u001b[0mcheck_batch_axis\u001b[0m\u001b[0;34m=\u001b[0m\u001b[0;32mFalse\u001b[0m\u001b[0;34m,\u001b[0m  \u001b[0;31m# Don't enforce the batch size.\u001b[0m\u001b[0;34m\u001b[0m\u001b[0;34m\u001b[0m\u001b[0m\n\u001b[0;32m--> 751\u001b[0;31m             exception_prefix='input')\n\u001b[0m\u001b[1;32m    752\u001b[0m \u001b[0;34m\u001b[0m\u001b[0m\n\u001b[1;32m    753\u001b[0m         \u001b[0;32mif\u001b[0m \u001b[0my\u001b[0m \u001b[0;32mis\u001b[0m \u001b[0;32mnot\u001b[0m \u001b[0;32mNone\u001b[0m\u001b[0;34m:\u001b[0m\u001b[0;34m\u001b[0m\u001b[0;34m\u001b[0m\u001b[0m\n",
            "\u001b[0;32m/usr/local/lib/python3.6/dist-packages/keras/engine/training_utils.py\u001b[0m in \u001b[0;36mstandardize_input_data\u001b[0;34m(data, names, shapes, check_batch_axis, exception_prefix)\u001b[0m\n\u001b[1;32m    100\u001b[0m                 \u001b[0;34m'Expected to see '\u001b[0m \u001b[0;34m+\u001b[0m \u001b[0mstr\u001b[0m\u001b[0;34m(\u001b[0m\u001b[0mlen\u001b[0m\u001b[0;34m(\u001b[0m\u001b[0mnames\u001b[0m\u001b[0;34m)\u001b[0m\u001b[0;34m)\u001b[0m \u001b[0;34m+\u001b[0m \u001b[0;34m' array(s), '\u001b[0m\u001b[0;34m\u001b[0m\u001b[0;34m\u001b[0m\u001b[0m\n\u001b[1;32m    101\u001b[0m                 \u001b[0;34m'but instead got the following list of '\u001b[0m \u001b[0;34m+\u001b[0m\u001b[0;34m\u001b[0m\u001b[0;34m\u001b[0m\u001b[0m\n\u001b[0;32m--> 102\u001b[0;31m                 str(len(data)) + ' arrays: ' + str(data)[:200] + '...')\n\u001b[0m\u001b[1;32m    103\u001b[0m         \u001b[0;32melif\u001b[0m \u001b[0mlen\u001b[0m\u001b[0;34m(\u001b[0m\u001b[0mnames\u001b[0m\u001b[0;34m)\u001b[0m \u001b[0;34m>\u001b[0m \u001b[0;36m1\u001b[0m\u001b[0;34m:\u001b[0m\u001b[0;34m\u001b[0m\u001b[0;34m\u001b[0m\u001b[0m\n\u001b[1;32m    104\u001b[0m             raise ValueError(\n",
            "\u001b[0;31mValueError\u001b[0m: Error when checking model input: the list of Numpy arrays that you are passing to your model is not the size the model expected. Expected to see 1 array(s), but instead got the following list of 2 arrays: [array([['twelve raids box the crime caper sequel starring george brad pitt and julia has gone straight to number one in the us box office took in weekend ticket according to studio the sequel follows..."
          ]
        }
      ]
    },
    {
      "metadata": {
        "id": "gpFGTRMQhKA3",
        "colab_type": "code",
        "colab": {}
      },
      "cell_type": "code",
      "source": [
        "from sklearn.model_selection import train_test_split"
      ],
      "execution_count": 0,
      "outputs": []
    },
    {
      "metadata": {
        "id": "7kv714UVhKt5",
        "colab_type": "code",
        "colab": {}
      },
      "cell_type": "code",
      "source": [
        ""
      ],
      "execution_count": 0,
      "outputs": []
    }
  ]
}